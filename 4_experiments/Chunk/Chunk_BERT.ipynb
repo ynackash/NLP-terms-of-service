{
  "nbformat": 4,
  "nbformat_minor": 0,
  "metadata": {
    "colab": {
      "provenance": [],
      "gpuType": "T4",
      "collapsed_sections": [
        "d4SDfeoqsRhe",
        "-_1kn8M0HNY5",
        "xuHEcBk7qhIP",
        "iwzDusy2rWRJ",
        "wNlAGB-2le6k"
      ]
    },
    "kernelspec": {
      "name": "python3",
      "display_name": "Python 3"
    },
    "language_info": {
      "name": "python"
    },
    "accelerator": "GPU"
  },
  "cells": [
    {
      "cell_type": "markdown",
      "source": [
        "# Chunks - BERT\n"
      ],
      "metadata": {
        "id": "xivbitchJNId"
      }
    },
    {
      "cell_type": "markdown",
      "source": [
        "# Imports & Installs"
      ],
      "metadata": {
        "id": "9VE30eioJM-N"
      }
    },
    {
      "cell_type": "code",
      "execution_count": null,
      "metadata": {
        "id": "E1BbdCYoIaN8",
        "colab": {
          "base_uri": "https://localhost:8080/"
        },
        "outputId": "2f78b45f-a1b7-471b-f553-8d6c91e3bbef"
      },
      "outputs": [
        {
          "output_type": "stream",
          "name": "stdout",
          "text": [
            "\u001b[31mERROR: Operation cancelled by user\u001b[0m\u001b[31m\n",
            "\u001b[2K   \u001b[90m━━━━━━━━━━━━━━━━━━━━━━━━━━━━━━━━━━━━━━━━\u001b[0m \u001b[32m1.7/1.7 MB\u001b[0m \u001b[31m18.1 MB/s\u001b[0m eta \u001b[36m0:00:00\u001b[0m\n",
            "\u001b[?25h"
          ]
        }
      ],
      "source": [
        "!pip install pydot --quiet\n",
        "!pip install gensim --quiet\n",
        "!pip install tensorflow==2.15.0 --quiet\n",
        "!pip install tf_keras==2.15.0 --quiet\n",
        "!pip install tensorflow-datasets==4.8 --quiet\n",
        "# !pip install tensorflow-text==2.15.0 --quiet\n",
        "!pip install transformers==4.17 --quiet"
      ]
    },
    {
      "cell_type": "code",
      "source": [
        "#@title Imports\n",
        "from google.colab import drive\n",
        "drive.mount('/content/drive')\n",
        "\n",
        "import numpy as np\n",
        "import pandas as pd\n",
        "import tensorflow as tf\n",
        "from tensorflow import keras\n",
        "\n",
        "from tensorflow.keras.layers import Embedding, Input, Dense, Lambda\n",
        "from tensorflow.keras.models import Model\n",
        "import tensorflow.keras.backend as K\n",
        "from tensorflow.keras.callbacks import EarlyStopping\n",
        "#import tensorflow_datasets as tfds\n",
        "# import tensorflow_text as tf_text\n",
        "import transformers\n",
        "\n",
        "from transformers import logging\n",
        "logging.set_verbosity_error()\n",
        "\n",
        "import sklearn as sk\n",
        "from sklearn.model_selection import train_test_split\n",
        "import os\n",
        "\n",
        "import nltk\n",
        "from nltk.data import find\n",
        "from nltk.tokenize import sent_tokenize\n",
        "nltk.download('punkt_tab')\n",
        "\n",
        "import matplotlib.pyplot as plt\n",
        "\n",
        "import re\n",
        "\n",
        "import gensim\n",
        "from gensim.models import Word2Vec\n",
        "from gensim.models import KeyedVectors\n",
        "from gensim.test.utils import datapath\n",
        "\n",
        "from transformers import BertTokenizer, TFBertModel\n",
        "# bert_tokenizer = BertTokenizer.from_pretrained('bert-base-cased')\n",
        "# bert_model = TFBertModel.from_pretrained('bert-base-cased')\n",
        "bert_tokenizer = BertTokenizer.from_pretrained('bert-base-uncased')\n",
        "# bert_model = TFBertModel.from_pretrained('bert-base-uncased')"
      ],
      "metadata": {
        "id": "3aME7fqNI8Pl"
      },
      "execution_count": null,
      "outputs": []
    },
    {
      "cell_type": "code",
      "source": [
        "# 4-window plot of loss and accuracy for two models, for comparison\n",
        "\n",
        "def make_plot(axs,\n",
        "              model_history1,\n",
        "              model_history2,\n",
        "              model_1_name='model 1',\n",
        "              model_2_name='model 2',\n",
        "              ):\n",
        "    box = dict(facecolor='yellow', pad=5, alpha=0.2)\n",
        "\n",
        "    for i, metric in enumerate(['loss', 'accuracy']):\n",
        "        y_lim_lower1 = np.min(model_history1.history[metric])\n",
        "        y_lim_lower2 = np.min(model_history2.history[metric])\n",
        "        y_lim_lower = min(y_lim_lower1, y_lim_lower2) * 0.9\n",
        "\n",
        "        y_lim_upper1 = np.max(model_history1.history[metric])\n",
        "        y_lim_upper2 = np.max(model_history2.history[metric])\n",
        "        y_lim_upper = max(y_lim_upper1, y_lim_upper2) * 1.1\n",
        "\n",
        "        for j, model_history in enumerate([model_history1, model_history2]):\n",
        "            model_name = [model_1_name, model_2_name][j]\n",
        "            ax1 = axs[i, j]\n",
        "            ax1.plot(model_history.history[metric])\n",
        "            ax1.plot(model_history.history['val_%s' % metric])\n",
        "            ax1.set_title('%s - %s' % (metric, model_name))\n",
        "            ax1.set_ylabel(metric, bbox=box)\n",
        "            ax1.set_ylim(y_lim_lower, y_lim_upper)"
      ],
      "metadata": {
        "id": "TZ9TdpGjJBnt"
      },
      "execution_count": null,
      "outputs": []
    },
    {
      "cell_type": "markdown",
      "source": [
        "# Read and Prepare Data"
      ],
      "metadata": {
        "id": "XmRULDS9JIfN"
      }
    },
    {
      "cell_type": "code",
      "source": [
        "chunk_highlights = pd.read_csv('/content/drive/MyDrive/266 Final Project/Processed Data/chunk_highlights.csv')\n",
        "chunk_highlights['highlight'] = chunk_highlights['highlight'].fillna('')\n",
        "chunk_highlights['label'] = chunk_highlights['highlight'].apply(lambda x: 0 if x =='' else 1)\n",
        "chunk_highlights.head()"
      ],
      "metadata": {
        "id": "8F4xvhugJL92",
        "colab": {
          "base_uri": "https://localhost:8080/",
          "height": 206
        },
        "outputId": "5fb66be1-3792-43c7-bfed-1c409e67f031"
      },
      "execution_count": null,
      "outputs": [
        {
          "output_type": "execute_result",
          "data": {
            "text/plain": [
              "   service_id                                           doc_text  \\\n",
              "0         158  Privacy Policy The Apple Privacy Policy was up...   \n",
              "1         158  In addition to this Privacy Policy, we provide...   \n",
              "2         158  You can review this information before enablin...   \n",
              "3         158  Your California Privacy Disclosures \\nInformat...   \n",
              "4         158  Apple and its affiliates may share this person...   \n",
              "\n",
              "                                           highlight  label  \n",
              "0                                                         0  \n",
              "1                                                         0  \n",
              "2                                                         0  \n",
              "3                                                         0  \n",
              "4  They may also combine it with other informatio...      1  "
            ],
            "text/html": [
              "\n",
              "  <div id=\"df-fe26acab-ee1e-4217-b949-d7ed83ced14b\" class=\"colab-df-container\">\n",
              "    <div>\n",
              "<style scoped>\n",
              "    .dataframe tbody tr th:only-of-type {\n",
              "        vertical-align: middle;\n",
              "    }\n",
              "\n",
              "    .dataframe tbody tr th {\n",
              "        vertical-align: top;\n",
              "    }\n",
              "\n",
              "    .dataframe thead th {\n",
              "        text-align: right;\n",
              "    }\n",
              "</style>\n",
              "<table border=\"1\" class=\"dataframe\">\n",
              "  <thead>\n",
              "    <tr style=\"text-align: right;\">\n",
              "      <th></th>\n",
              "      <th>service_id</th>\n",
              "      <th>doc_text</th>\n",
              "      <th>highlight</th>\n",
              "      <th>label</th>\n",
              "    </tr>\n",
              "  </thead>\n",
              "  <tbody>\n",
              "    <tr>\n",
              "      <th>0</th>\n",
              "      <td>158</td>\n",
              "      <td>Privacy Policy The Apple Privacy Policy was up...</td>\n",
              "      <td></td>\n",
              "      <td>0</td>\n",
              "    </tr>\n",
              "    <tr>\n",
              "      <th>1</th>\n",
              "      <td>158</td>\n",
              "      <td>In addition to this Privacy Policy, we provide...</td>\n",
              "      <td></td>\n",
              "      <td>0</td>\n",
              "    </tr>\n",
              "    <tr>\n",
              "      <th>2</th>\n",
              "      <td>158</td>\n",
              "      <td>You can review this information before enablin...</td>\n",
              "      <td></td>\n",
              "      <td>0</td>\n",
              "    </tr>\n",
              "    <tr>\n",
              "      <th>3</th>\n",
              "      <td>158</td>\n",
              "      <td>Your California Privacy Disclosures \\nInformat...</td>\n",
              "      <td></td>\n",
              "      <td>0</td>\n",
              "    </tr>\n",
              "    <tr>\n",
              "      <th>4</th>\n",
              "      <td>158</td>\n",
              "      <td>Apple and its affiliates may share this person...</td>\n",
              "      <td>They may also combine it with other informatio...</td>\n",
              "      <td>1</td>\n",
              "    </tr>\n",
              "  </tbody>\n",
              "</table>\n",
              "</div>\n",
              "    <div class=\"colab-df-buttons\">\n",
              "\n",
              "  <div class=\"colab-df-container\">\n",
              "    <button class=\"colab-df-convert\" onclick=\"convertToInteractive('df-fe26acab-ee1e-4217-b949-d7ed83ced14b')\"\n",
              "            title=\"Convert this dataframe to an interactive table.\"\n",
              "            style=\"display:none;\">\n",
              "\n",
              "  <svg xmlns=\"http://www.w3.org/2000/svg\" height=\"24px\" viewBox=\"0 -960 960 960\">\n",
              "    <path d=\"M120-120v-720h720v720H120Zm60-500h600v-160H180v160Zm220 220h160v-160H400v160Zm0 220h160v-160H400v160ZM180-400h160v-160H180v160Zm440 0h160v-160H620v160ZM180-180h160v-160H180v160Zm440 0h160v-160H620v160Z\"/>\n",
              "  </svg>\n",
              "    </button>\n",
              "\n",
              "  <style>\n",
              "    .colab-df-container {\n",
              "      display:flex;\n",
              "      gap: 12px;\n",
              "    }\n",
              "\n",
              "    .colab-df-convert {\n",
              "      background-color: #E8F0FE;\n",
              "      border: none;\n",
              "      border-radius: 50%;\n",
              "      cursor: pointer;\n",
              "      display: none;\n",
              "      fill: #1967D2;\n",
              "      height: 32px;\n",
              "      padding: 0 0 0 0;\n",
              "      width: 32px;\n",
              "    }\n",
              "\n",
              "    .colab-df-convert:hover {\n",
              "      background-color: #E2EBFA;\n",
              "      box-shadow: 0px 1px 2px rgba(60, 64, 67, 0.3), 0px 1px 3px 1px rgba(60, 64, 67, 0.15);\n",
              "      fill: #174EA6;\n",
              "    }\n",
              "\n",
              "    .colab-df-buttons div {\n",
              "      margin-bottom: 4px;\n",
              "    }\n",
              "\n",
              "    [theme=dark] .colab-df-convert {\n",
              "      background-color: #3B4455;\n",
              "      fill: #D2E3FC;\n",
              "    }\n",
              "\n",
              "    [theme=dark] .colab-df-convert:hover {\n",
              "      background-color: #434B5C;\n",
              "      box-shadow: 0px 1px 3px 1px rgba(0, 0, 0, 0.15);\n",
              "      filter: drop-shadow(0px 1px 2px rgba(0, 0, 0, 0.3));\n",
              "      fill: #FFFFFF;\n",
              "    }\n",
              "  </style>\n",
              "\n",
              "    <script>\n",
              "      const buttonEl =\n",
              "        document.querySelector('#df-fe26acab-ee1e-4217-b949-d7ed83ced14b button.colab-df-convert');\n",
              "      buttonEl.style.display =\n",
              "        google.colab.kernel.accessAllowed ? 'block' : 'none';\n",
              "\n",
              "      async function convertToInteractive(key) {\n",
              "        const element = document.querySelector('#df-fe26acab-ee1e-4217-b949-d7ed83ced14b');\n",
              "        const dataTable =\n",
              "          await google.colab.kernel.invokeFunction('convertToInteractive',\n",
              "                                                    [key], {});\n",
              "        if (!dataTable) return;\n",
              "\n",
              "        const docLinkHtml = 'Like what you see? Visit the ' +\n",
              "          '<a target=\"_blank\" href=https://colab.research.google.com/notebooks/data_table.ipynb>data table notebook</a>'\n",
              "          + ' to learn more about interactive tables.';\n",
              "        element.innerHTML = '';\n",
              "        dataTable['output_type'] = 'display_data';\n",
              "        await google.colab.output.renderOutput(dataTable, element);\n",
              "        const docLink = document.createElement('div');\n",
              "        docLink.innerHTML = docLinkHtml;\n",
              "        element.appendChild(docLink);\n",
              "      }\n",
              "    </script>\n",
              "  </div>\n",
              "\n",
              "\n",
              "<div id=\"df-94ad9e35-b207-4d0c-8302-7f8fa4204829\">\n",
              "  <button class=\"colab-df-quickchart\" onclick=\"quickchart('df-94ad9e35-b207-4d0c-8302-7f8fa4204829')\"\n",
              "            title=\"Suggest charts\"\n",
              "            style=\"display:none;\">\n",
              "\n",
              "<svg xmlns=\"http://www.w3.org/2000/svg\" height=\"24px\"viewBox=\"0 0 24 24\"\n",
              "     width=\"24px\">\n",
              "    <g>\n",
              "        <path d=\"M19 3H5c-1.1 0-2 .9-2 2v14c0 1.1.9 2 2 2h14c1.1 0 2-.9 2-2V5c0-1.1-.9-2-2-2zM9 17H7v-7h2v7zm4 0h-2V7h2v10zm4 0h-2v-4h2v4z\"/>\n",
              "    </g>\n",
              "</svg>\n",
              "  </button>\n",
              "\n",
              "<style>\n",
              "  .colab-df-quickchart {\n",
              "      --bg-color: #E8F0FE;\n",
              "      --fill-color: #1967D2;\n",
              "      --hover-bg-color: #E2EBFA;\n",
              "      --hover-fill-color: #174EA6;\n",
              "      --disabled-fill-color: #AAA;\n",
              "      --disabled-bg-color: #DDD;\n",
              "  }\n",
              "\n",
              "  [theme=dark] .colab-df-quickchart {\n",
              "      --bg-color: #3B4455;\n",
              "      --fill-color: #D2E3FC;\n",
              "      --hover-bg-color: #434B5C;\n",
              "      --hover-fill-color: #FFFFFF;\n",
              "      --disabled-bg-color: #3B4455;\n",
              "      --disabled-fill-color: #666;\n",
              "  }\n",
              "\n",
              "  .colab-df-quickchart {\n",
              "    background-color: var(--bg-color);\n",
              "    border: none;\n",
              "    border-radius: 50%;\n",
              "    cursor: pointer;\n",
              "    display: none;\n",
              "    fill: var(--fill-color);\n",
              "    height: 32px;\n",
              "    padding: 0;\n",
              "    width: 32px;\n",
              "  }\n",
              "\n",
              "  .colab-df-quickchart:hover {\n",
              "    background-color: var(--hover-bg-color);\n",
              "    box-shadow: 0 1px 2px rgba(60, 64, 67, 0.3), 0 1px 3px 1px rgba(60, 64, 67, 0.15);\n",
              "    fill: var(--button-hover-fill-color);\n",
              "  }\n",
              "\n",
              "  .colab-df-quickchart-complete:disabled,\n",
              "  .colab-df-quickchart-complete:disabled:hover {\n",
              "    background-color: var(--disabled-bg-color);\n",
              "    fill: var(--disabled-fill-color);\n",
              "    box-shadow: none;\n",
              "  }\n",
              "\n",
              "  .colab-df-spinner {\n",
              "    border: 2px solid var(--fill-color);\n",
              "    border-color: transparent;\n",
              "    border-bottom-color: var(--fill-color);\n",
              "    animation:\n",
              "      spin 1s steps(1) infinite;\n",
              "  }\n",
              "\n",
              "  @keyframes spin {\n",
              "    0% {\n",
              "      border-color: transparent;\n",
              "      border-bottom-color: var(--fill-color);\n",
              "      border-left-color: var(--fill-color);\n",
              "    }\n",
              "    20% {\n",
              "      border-color: transparent;\n",
              "      border-left-color: var(--fill-color);\n",
              "      border-top-color: var(--fill-color);\n",
              "    }\n",
              "    30% {\n",
              "      border-color: transparent;\n",
              "      border-left-color: var(--fill-color);\n",
              "      border-top-color: var(--fill-color);\n",
              "      border-right-color: var(--fill-color);\n",
              "    }\n",
              "    40% {\n",
              "      border-color: transparent;\n",
              "      border-right-color: var(--fill-color);\n",
              "      border-top-color: var(--fill-color);\n",
              "    }\n",
              "    60% {\n",
              "      border-color: transparent;\n",
              "      border-right-color: var(--fill-color);\n",
              "    }\n",
              "    80% {\n",
              "      border-color: transparent;\n",
              "      border-right-color: var(--fill-color);\n",
              "      border-bottom-color: var(--fill-color);\n",
              "    }\n",
              "    90% {\n",
              "      border-color: transparent;\n",
              "      border-bottom-color: var(--fill-color);\n",
              "    }\n",
              "  }\n",
              "</style>\n",
              "\n",
              "  <script>\n",
              "    async function quickchart(key) {\n",
              "      const quickchartButtonEl =\n",
              "        document.querySelector('#' + key + ' button');\n",
              "      quickchartButtonEl.disabled = true;  // To prevent multiple clicks.\n",
              "      quickchartButtonEl.classList.add('colab-df-spinner');\n",
              "      try {\n",
              "        const charts = await google.colab.kernel.invokeFunction(\n",
              "            'suggestCharts', [key], {});\n",
              "      } catch (error) {\n",
              "        console.error('Error during call to suggestCharts:', error);\n",
              "      }\n",
              "      quickchartButtonEl.classList.remove('colab-df-spinner');\n",
              "      quickchartButtonEl.classList.add('colab-df-quickchart-complete');\n",
              "    }\n",
              "    (() => {\n",
              "      let quickchartButtonEl =\n",
              "        document.querySelector('#df-94ad9e35-b207-4d0c-8302-7f8fa4204829 button');\n",
              "      quickchartButtonEl.style.display =\n",
              "        google.colab.kernel.accessAllowed ? 'block' : 'none';\n",
              "    })();\n",
              "  </script>\n",
              "</div>\n",
              "\n",
              "    </div>\n",
              "  </div>\n"
            ],
            "application/vnd.google.colaboratory.intrinsic+json": {
              "type": "dataframe",
              "variable_name": "chunk_highlights",
              "summary": "{\n  \"name\": \"chunk_highlights\",\n  \"rows\": 27069,\n  \"fields\": [\n    {\n      \"column\": \"service_id\",\n      \"properties\": {\n        \"dtype\": \"number\",\n        \"std\": 1035,\n        \"min\": 158,\n        \"max\": 3534,\n        \"num_unique_values\": 166,\n        \"samples\": [\n          1713,\n          2718,\n          1010\n        ],\n        \"semantic_type\": \"\",\n        \"description\": \"\"\n      }\n    },\n    {\n      \"column\": \"doc_text\",\n      \"properties\": {\n        \"dtype\": \"string\",\n        \"num_unique_values\": 24393,\n        \"samples\": [\n          \"d to enforce our Terms and Conditions. e to protect our operations or those of any of our affiliates. f to protect our rights, privacy, safety or property, andor that of our affiliates, you, or others.\",\n          \"or\\ncreate a user name that is a name that is otherwise offensive, vulgar or obscene or otherwise unlawful. Foursquare reserves the right to refuse registration of, or cancel a user name, in its sole discretion. You are solely responsible and liable for activity that occurs on your account and shall be responsible for maintaining the confidentiality of your Foursquare password.\",\n          \"NVIDIA DEVELOPER PROGRAM The NVIDIA Developer Program connects developers with tools to build GPUaccelerated applications. When you participate in Developer Program activities, NVIDIA collects information about your forums contributions, bugs filed, files downloaded, training completioncertification, and event registration. We do this to get your feedback and improve our services.\"\n        ],\n        \"semantic_type\": \"\",\n        \"description\": \"\"\n      }\n    },\n    {\n      \"column\": \"highlight\",\n      \"properties\": {\n        \"dtype\": \"category\",\n        \"num_unique_values\": 3716,\n        \"samples\": [\n          \"De la mme manire, Lquipe SAS et Lquipe 2424 vous prviennent que le paramtre DoNotTrack offert par certaines versions des navigateurs nest pas toujours interprt par tous les acteurs comme une opposition au traage par les rgies publicitaires et nest donc pas suffisante pour reflter votre choix.\",\n          \"You can request correction of Account Data if it is considered incorrect, in accordance with the New Zealand Privacy Act 2020 and the GDPR.\",\n          \"and b agree that all terms and conditions,\\nagreements, notices, disclosures, and other communications that Company provides\\nto you electronically satisfy any legal obligation that such communications would\\nsatisfy if it were be in a hard copy writing.\"\n        ],\n        \"semantic_type\": \"\",\n        \"description\": \"\"\n      }\n    },\n    {\n      \"column\": \"label\",\n      \"properties\": {\n        \"dtype\": \"number\",\n        \"std\": 0,\n        \"min\": 0,\n        \"max\": 1,\n        \"num_unique_values\": 2,\n        \"samples\": [\n          1,\n          0\n        ],\n        \"semantic_type\": \"\",\n        \"description\": \"\"\n      }\n    }\n  ]\n}"
            }
          },
          "metadata": {},
          "execution_count": 4
        }
      ]
    },
    {
      "cell_type": "markdown",
      "source": [
        "Rebalance using random sampling\n",
        "\n",
        "**Note** POSSIBLY INCLUDE RANDOM SAMPLING WITH REPLACEMENT HERE? Avoid selection and training with the same data points."
      ],
      "metadata": {
        "id": "AUpDW7BHOMiE"
      }
    },
    {
      "cell_type": "code",
      "source": [
        "class1_df = chunk_highlights[chunk_highlights['label'] == 1]\n",
        "class0_df = chunk_highlights[chunk_highlights['label'] == 0].sample(n = len(chunk_highlights[chunk_highlights['label'] == 1]))\n",
        "balanced_df = pd.concat([class1_df, class0_df])\n",
        "balanced_df['label'].value_counts()"
      ],
      "metadata": {
        "id": "VDG1FGbTMPE8",
        "colab": {
          "base_uri": "https://localhost:8080/",
          "height": 178
        },
        "outputId": "bced2216-83c8-44cf-c124-47d86ae6611a"
      },
      "execution_count": null,
      "outputs": [
        {
          "output_type": "execute_result",
          "data": {
            "text/plain": [
              "label\n",
              "1    5924\n",
              "0    5924\n",
              "Name: count, dtype: int64"
            ],
            "text/html": [
              "<div>\n",
              "<style scoped>\n",
              "    .dataframe tbody tr th:only-of-type {\n",
              "        vertical-align: middle;\n",
              "    }\n",
              "\n",
              "    .dataframe tbody tr th {\n",
              "        vertical-align: top;\n",
              "    }\n",
              "\n",
              "    .dataframe thead th {\n",
              "        text-align: right;\n",
              "    }\n",
              "</style>\n",
              "<table border=\"1\" class=\"dataframe\">\n",
              "  <thead>\n",
              "    <tr style=\"text-align: right;\">\n",
              "      <th></th>\n",
              "      <th>count</th>\n",
              "    </tr>\n",
              "    <tr>\n",
              "      <th>label</th>\n",
              "      <th></th>\n",
              "    </tr>\n",
              "  </thead>\n",
              "  <tbody>\n",
              "    <tr>\n",
              "      <th>1</th>\n",
              "      <td>5924</td>\n",
              "    </tr>\n",
              "    <tr>\n",
              "      <th>0</th>\n",
              "      <td>5924</td>\n",
              "    </tr>\n",
              "  </tbody>\n",
              "</table>\n",
              "</div><br><label><b>dtype:</b> int64</label>"
            ]
          },
          "metadata": {},
          "execution_count": 5
        }
      ]
    },
    {
      "cell_type": "markdown",
      "source": [
        "Create Train and Test datasets.\n",
        "\n",
        "**Note 1:** Toggle between \"highlight\" (actual highlight text) and \"label\" (0/1) based on the need of the experiment.\n",
        "\n",
        "**Note 2:** POSSIBLY INCLUDE CROSS VALIDATION HERE? Train/evaluate on different subsets of data."
      ],
      "metadata": {
        "id": "F6V4SnIFOSql"
      }
    },
    {
      "cell_type": "code",
      "source": [
        "# X = balanced_df['doc_text'].values\n",
        "y = balanced_df['label'].values\n",
        "\n",
        "# X_train, X_test, y_train, y_test = train_test_split(X,y, test_size = 0.2, random_state = 1)\n",
        "X_train, X_test, y_train, y_test = train_test_split(balanced_df[['doc_text','highlight']], y, test_size = 0.2, random_state = 1)\n",
        "\n",
        "print(X_train.shape)\n",
        "print(X_test.shape)"
      ],
      "metadata": {
        "id": "UCCmRCgOOKHi",
        "colab": {
          "base_uri": "https://localhost:8080/"
        },
        "outputId": "cdbf8398-9c10-49c3-d99e-1eb29a3c6779"
      },
      "execution_count": null,
      "outputs": [
        {
          "output_type": "stream",
          "name": "stdout",
          "text": [
            "(9478, 2)\n",
            "(2370, 2)\n"
          ]
        }
      ]
    },
    {
      "cell_type": "markdown",
      "source": [
        "# BERT"
      ],
      "metadata": {
        "id": "g9Z93XBdPkfk"
      }
    },
    {
      "cell_type": "markdown",
      "source": [
        "BERT Tokenization **without** separator token"
      ],
      "metadata": {
        "id": "9hNqLvIZp3Cq"
      }
    },
    {
      "cell_type": "code",
      "source": [
        "MAX_SEQUENCE_LENGTH = 512\n",
        "\n",
        "def tokenize_with_separator(X, y):\n",
        "\n",
        "  X_examples = [f\" {bert_tokenizer.sep_token} \".join(sent_tokenize(x)) for x in X]\n",
        "\n",
        "  bert_input_tokenized = bert_tokenizer(X_examples,\n",
        "                                        max_length=MAX_SEQUENCE_LENGTH,\n",
        "                                        truncation=True,\n",
        "                                        padding='max_length',\n",
        "                                        return_tensors='tf')\n",
        "\n",
        "  bert_inputs = [bert_input_tokenized.input_ids,\n",
        "                      bert_input_tokenized.token_type_ids,\n",
        "                      bert_input_tokenized.attention_mask]\n",
        "\n",
        "  bert_labels = np.array(y)\n",
        "\n",
        "  return bert_inputs, bert_labels\n",
        "\n",
        "# def tokenize_with_separator(X_train, X_test, y_train, y_test):\n",
        "\n",
        "#   train_examples_str = [f\" {bert_tokenizer.sep_token} \".join(sent_tokenize(X)) for X in X_train]\n",
        "#   test_examples_str = [f\" {bert_tokenizer.sep_token} \".join(sent_tokenize(X)) for X in X_test]\n",
        "\n",
        "#   bert_train_tokenized = bert_tokenizer(\n",
        "#                 train_examples_str,\n",
        "#                 max_length=MAX_SEQUENCE_LENGTH,\n",
        "#                 truncation=True,\n",
        "#                 padding='max_length',\n",
        "#                 return_tensors='tf')\n",
        "#   bert_train_inputs = [bert_train_tokenized.input_ids,\n",
        "#                       bert_train_tokenized.token_type_ids,\n",
        "#                       bert_train_tokenized.attention_mask]\n",
        "\n",
        "#   bert_train_labels = np.array(y_train)\n",
        "\n",
        "#   bert_test_tokenized = bert_tokenizer(\n",
        "#                 test_examples_str,\n",
        "#                 max_length=MAX_SEQUENCE_LENGTH,\n",
        "#                 truncation=True,\n",
        "#                 padding='max_length',\n",
        "#                 return_tensors='tf')\n",
        "#   bert_test_inputs = [bert_test_tokenized.input_ids,\n",
        "#                       bert_test_tokenized.token_type_ids,\n",
        "#                       bert_test_tokenized.attention_mask]\n",
        "\n",
        "#   bert_test_labels = np.array(y_test)\n",
        "\n",
        "#   return bert_train_inputs, bert_train_labels, bert_test_inputs, bert_test_labels"
      ],
      "metadata": {
        "id": "Q58QebSB0L0f"
      },
      "execution_count": null,
      "outputs": []
    },
    {
      "cell_type": "code",
      "source": [
        "bert_train_inputs, bert_train_labels = tokenize_with_separator(X_train['doc_text'], y_train)\n",
        "bert_test_inputs, bert_test_labels = tokenize_with_separator(X_test['doc_text'], y_test)"
      ],
      "metadata": {
        "id": "88-WqSe95Z-1"
      },
      "execution_count": null,
      "outputs": []
    },
    {
      "cell_type": "code",
      "source": [
        "def create_bert_cls_model(\n",
        "                          # bert_base_model,\n",
        "                          max_sequence_length=MAX_SEQUENCE_LENGTH,\n",
        "                          hidden_size = 100,\n",
        "                          dropout=0.3,\n",
        "                          learning_rate=0.00005):\n",
        "    \"\"\"\n",
        "    Build a simple classification model with BERT. Use the CLS Token output for classification purposes.\n",
        "    \"\"\"\n",
        "\n",
        "    ### YOUR CODE HERE\n",
        "\n",
        "    bert_base_model = TFBertModel.from_pretrained('bert-base-uncased')\n",
        "\n",
        "    # bert_base_model.trainable = True\n",
        "    # Freeze the embedding layer\n",
        "    for param in bert_base_model.bert.embeddings.weights:\n",
        "        param._trainable = False\n",
        "\n",
        "    # Freeze the first 6 encoder layers (0-5)\n",
        "    for param in bert_base_model.bert.encoder.layer[0:6]:\n",
        "        param._trainable = False\n",
        "\n",
        "    input_ids = tf.keras.layers.Input(shape=(MAX_SEQUENCE_LENGTH,), dtype=tf.int64, name='input_ids_layer')\n",
        "    token_type_ids = tf.keras.layers.Input(shape=(MAX_SEQUENCE_LENGTH,), dtype=tf.int64, name='token_type_ids_layer')\n",
        "    attention_mask = tf.keras.layers.Input(shape=(MAX_SEQUENCE_LENGTH,), dtype=tf.int64, name='attention_mask_layer')\n",
        "\n",
        "    bert_inputs = {'input_ids': input_ids,\n",
        "                   'token_type_ids': token_type_ids,\n",
        "                   'attention_mask': attention_mask}\n",
        "\n",
        "    bert_out = bert_base_model(bert_inputs)\n",
        "\n",
        "    #pooler_token = bert_out[1]\n",
        "    cls_token = bert_out[0][:, 0, :]\n",
        "\n",
        "    hidden = tf.keras.layers.Dense(hidden_size, activation='relu', name='hidden_layer')(cls_token)\n",
        "\n",
        "    hidden = tf.keras.layers.Dropout(dropout)(hidden)\n",
        "\n",
        "    classification = tf.keras.layers.Dense(1, activation='sigmoid',name='classification_layer')(hidden)\n",
        "\n",
        "    classification_model = tf.keras.Model(inputs=[input_ids, token_type_ids, attention_mask], outputs=[classification])\n",
        "\n",
        "    classification_model.compile(optimizer=tf.keras.optimizers.Adam(learning_rate=learning_rate),\n",
        "                                 loss=tf.keras.losses.BinaryCrossentropy(from_logits=False),\n",
        "                                 metrics=['accuracy', keras.metrics.Recall()])\n",
        "\n",
        "    ### END YOUR CODE\n",
        "\n",
        "    return classification_model, bert_base_model"
      ],
      "metadata": {
        "id": "Clv_CxkCt3PI"
      },
      "execution_count": null,
      "outputs": []
    },
    {
      "cell_type": "markdown",
      "source": [
        "#### Attempt 1"
      ],
      "metadata": {
        "id": "d4SDfeoqsRhe"
      }
    },
    {
      "cell_type": "code",
      "source": [
        "bert_classification_model = create_bert_cls_model(bert_model)\n",
        "bert_classification_model_history = bert_classification_model.fit(\n",
        "    bert_train_inputs,\n",
        "    bert_train_labels,\n",
        "    validation_data = (bert_test_inputs, bert_test_labels),\n",
        "    batch_size = 8,\n",
        "    epochs = 3\n",
        ")"
      ],
      "metadata": {
        "colab": {
          "base_uri": "https://localhost:8080/"
        },
        "id": "SytYTgfP1s-z",
        "outputId": "49f93c18-6bbe-4911-f9e1-6ec246d6f570"
      },
      "execution_count": null,
      "outputs": [
        {
          "output_type": "stream",
          "name": "stdout",
          "text": [
            "Epoch 1/3\n"
          ]
        },
        {
          "output_type": "stream",
          "name": "stderr",
          "text": [
            "WARNING:tensorflow:Gradients do not exist for variables ['tf_bert_model/bert/pooler/dense/kernel:0', 'tf_bert_model/bert/pooler/dense/bias:0'] when minimizing the loss. If you're using `model.compile()`, did you forget to provide a `loss` argument?\n",
            "WARNING:tensorflow:Gradients do not exist for variables ['tf_bert_model/bert/pooler/dense/kernel:0', 'tf_bert_model/bert/pooler/dense/bias:0'] when minimizing the loss. If you're using `model.compile()`, did you forget to provide a `loss` argument?\n",
            "WARNING:tensorflow:Gradients do not exist for variables ['tf_bert_model/bert/pooler/dense/kernel:0', 'tf_bert_model/bert/pooler/dense/bias:0'] when minimizing the loss. If you're using `model.compile()`, did you forget to provide a `loss` argument?\n",
            "WARNING:tensorflow:Gradients do not exist for variables ['tf_bert_model/bert/pooler/dense/kernel:0', 'tf_bert_model/bert/pooler/dense/bias:0'] when minimizing the loss. If you're using `model.compile()`, did you forget to provide a `loss` argument?\n"
          ]
        },
        {
          "output_type": "stream",
          "name": "stdout",
          "text": [
            "1185/1185 [==============================] - 646s 512ms/step - loss: 0.4923 - accuracy: 0.7744 - val_loss: 0.4846 - val_accuracy: 0.7726\n",
            "Epoch 2/3\n",
            "1185/1185 [==============================] - 603s 509ms/step - loss: 0.3601 - accuracy: 0.8547 - val_loss: 0.5059 - val_accuracy: 0.7553\n",
            "Epoch 3/3\n",
            "1185/1185 [==============================] - 602s 508ms/step - loss: 0.2430 - accuracy: 0.9062 - val_loss: 0.5721 - val_accuracy: 0.7878\n"
          ]
        }
      ]
    },
    {
      "cell_type": "code",
      "source": [
        "fig, axs = plt.subplots(2, 2)\n",
        "fig.subplots_adjust(left=0.2, wspace=0.6)\n",
        "make_plot(axs,\n",
        "          bert_classification_model_history,\n",
        "          bert_classification_model_history,\n",
        "          model_1_name='bert',\n",
        "          model_2_name='bert')\n",
        "\n",
        "fig.align_ylabels(axs[:, 1])\n",
        "fig.set_size_inches(18.5, 10.5)\n",
        "plt.show()"
      ],
      "metadata": {
        "id": "hjPRNb7mRhC9"
      },
      "execution_count": null,
      "outputs": []
    },
    {
      "cell_type": "code",
      "source": [
        "preds = bert_classification_model.predict(bert_test_inputs)\n",
        "\n",
        "bert_test_predictions = pd.DataFrame()\n",
        "bert_test_predictions['doc_text'] = test_examples_str\n",
        "bert_test_predictions['y_test'] = y_test\n",
        "bert_test_predictions['y_pred'] = (preds > 0.5).astype(int)\n",
        "bert_test_predictions.head()"
      ],
      "metadata": {
        "id": "bseHnLgbt_o0"
      },
      "execution_count": null,
      "outputs": []
    },
    {
      "cell_type": "code",
      "source": [],
      "metadata": {
        "id": "dAVSIDKiJmxc"
      },
      "execution_count": null,
      "outputs": []
    },
    {
      "cell_type": "markdown",
      "source": [
        "#### Attempt 2"
      ],
      "metadata": {
        "id": "-_1kn8M0HNY5"
      }
    },
    {
      "cell_type": "code",
      "source": [
        "tf.keras.backend.clear_session()\n",
        "\n",
        "bert_classification_model = create_bert_cls_model()\n",
        "\n",
        "early_stopping = EarlyStopping(monitor=\"val_loss\", patience=3, restore_best_weights=True)\n",
        "\n",
        "bert_classification_model_history = bert_classification_model.fit(\n",
        "    bert_train_inputs,\n",
        "    bert_train_labels,\n",
        "    validation_data = (bert_test_inputs, bert_test_labels),\n",
        "    # [bert_train_inputs[0][:80], bert_train_inputs[1][:80], bert_train_inputs[2][:80]],\n",
        "    # bert_train_labels[0:80],\n",
        "    # validation_data = ([bert_test_inputs[0][:20], bert_test_inputs[1][:20], bert_test_inputs[2][:20]], bert_test_labels[0:20]),\n",
        "    callbacks=[early_stopping],\n",
        "    batch_size = 8,\n",
        "    epochs = 3\n",
        ")"
      ],
      "metadata": {
        "colab": {
          "base_uri": "https://localhost:8080/"
        },
        "id": "1BMOPoVjaiEy",
        "outputId": "d9c6aff7-5e0e-40db-841a-c96d03ca30c5"
      },
      "execution_count": null,
      "outputs": [
        {
          "output_type": "stream",
          "name": "stdout",
          "text": [
            "Epoch 1/3\n"
          ]
        },
        {
          "output_type": "stream",
          "name": "stderr",
          "text": [
            "WARNING:tensorflow:Gradients do not exist for variables ['tf_bert_model/bert/pooler/dense/kernel:0', 'tf_bert_model/bert/pooler/dense/bias:0'] when minimizing the loss. If you're using `model.compile()`, did you forget to provide a `loss` argument?\n",
            "WARNING:tensorflow:Gradients do not exist for variables ['tf_bert_model/bert/pooler/dense/kernel:0', 'tf_bert_model/bert/pooler/dense/bias:0'] when minimizing the loss. If you're using `model.compile()`, did you forget to provide a `loss` argument?\n",
            "WARNING:tensorflow:Gradients do not exist for variables ['tf_bert_model/bert/pooler/dense/kernel:0', 'tf_bert_model/bert/pooler/dense/bias:0'] when minimizing the loss. If you're using `model.compile()`, did you forget to provide a `loss` argument?\n",
            "WARNING:tensorflow:Gradients do not exist for variables ['tf_bert_model/bert/pooler/dense/kernel:0', 'tf_bert_model/bert/pooler/dense/bias:0'] when minimizing the loss. If you're using `model.compile()`, did you forget to provide a `loss` argument?\n"
          ]
        },
        {
          "output_type": "stream",
          "name": "stdout",
          "text": [
            "1185/1185 [==============================] - 601s 474ms/step - loss: 0.6723 - accuracy: 0.5770 - val_loss: 0.6199 - val_accuracy: 0.6629\n",
            "Epoch 2/3\n",
            "1185/1185 [==============================] - 594s 501ms/step - loss: 0.5966 - accuracy: 0.6977 - val_loss: 0.6105 - val_accuracy: 0.6667\n",
            "Epoch 3/3\n",
            "1185/1185 [==============================] - 594s 502ms/step - loss: 0.4828 - accuracy: 0.7790 - val_loss: 0.6260 - val_accuracy: 0.7004\n"
          ]
        }
      ]
    },
    {
      "cell_type": "markdown",
      "source": [
        "#### Attempt 3, including separator token between sentences within chunks"
      ],
      "metadata": {
        "id": "xuHEcBk7qhIP"
      }
    },
    {
      "cell_type": "code",
      "source": [
        "tf.keras.backend.clear_session()\n",
        "\n",
        "bert_classification_model = create_bert_cls_model()\n",
        "\n",
        "# early_stopping = EarlyStopping(monitor=\"val_loss\", patience=3, restore_best_weights=True)\n",
        "\n",
        "bert_classification_model_history = bert_classification_model.fit(\n",
        "    bert_train_inputs,\n",
        "    bert_train_labels,\n",
        "    validation_data = (bert_test_inputs, bert_test_labels),\n",
        "    # [bert_train_inputs[0][:5120], bert_train_inputs[1][:5120], bert_train_inputs[2][:5120]],\n",
        "    # bert_train_labels[0:5120],\n",
        "    # validation_data = ([bert_test_inputs[0][:1280], bert_test_inputs[1][:1280], bert_test_inputs[2][:1280]], bert_test_labels[0:1280]),\n",
        "    # callbacks=[early_stopping],\n",
        "    batch_size = 8,\n",
        "    epochs = 3\n",
        ")"
      ],
      "metadata": {
        "colab": {
          "base_uri": "https://localhost:8080/"
        },
        "id": "3KT3_vt2qg9c",
        "outputId": "ac41cc1c-f688-44c9-d305-b84872a40332"
      },
      "execution_count": null,
      "outputs": [
        {
          "output_type": "stream",
          "name": "stdout",
          "text": [
            "Epoch 1/3\n"
          ]
        },
        {
          "output_type": "stream",
          "name": "stderr",
          "text": [
            "WARNING:tensorflow:Gradients do not exist for variables ['tf_bert_model/bert/embeddings/word_embeddings/weight:0', 'tf_bert_model/bert/embeddings/token_type_embeddings/embeddings:0', 'tf_bert_model/bert/embeddings/position_embeddings/embeddings:0', 'tf_bert_model/bert/embeddings/LayerNorm/gamma:0', 'tf_bert_model/bert/embeddings/LayerNorm/beta:0', 'tf_bert_model/bert/pooler/dense/kernel:0', 'tf_bert_model/bert/pooler/dense/bias:0'] when minimizing the loss. If you're using `model.compile()`, did you forget to provide a `loss` argument?\n",
            "WARNING:tensorflow:Gradients do not exist for variables ['tf_bert_model/bert/embeddings/word_embeddings/weight:0', 'tf_bert_model/bert/embeddings/token_type_embeddings/embeddings:0', 'tf_bert_model/bert/embeddings/position_embeddings/embeddings:0', 'tf_bert_model/bert/embeddings/LayerNorm/gamma:0', 'tf_bert_model/bert/embeddings/LayerNorm/beta:0', 'tf_bert_model/bert/pooler/dense/kernel:0', 'tf_bert_model/bert/pooler/dense/bias:0'] when minimizing the loss. If you're using `model.compile()`, did you forget to provide a `loss` argument?\n",
            "WARNING:tensorflow:Gradients do not exist for variables ['tf_bert_model/bert/embeddings/word_embeddings/weight:0', 'tf_bert_model/bert/embeddings/token_type_embeddings/embeddings:0', 'tf_bert_model/bert/embeddings/position_embeddings/embeddings:0', 'tf_bert_model/bert/embeddings/LayerNorm/gamma:0', 'tf_bert_model/bert/embeddings/LayerNorm/beta:0', 'tf_bert_model/bert/pooler/dense/kernel:0', 'tf_bert_model/bert/pooler/dense/bias:0'] when minimizing the loss. If you're using `model.compile()`, did you forget to provide a `loss` argument?\n",
            "WARNING:tensorflow:Gradients do not exist for variables ['tf_bert_model/bert/embeddings/word_embeddings/weight:0', 'tf_bert_model/bert/embeddings/token_type_embeddings/embeddings:0', 'tf_bert_model/bert/embeddings/position_embeddings/embeddings:0', 'tf_bert_model/bert/embeddings/LayerNorm/gamma:0', 'tf_bert_model/bert/embeddings/LayerNorm/beta:0', 'tf_bert_model/bert/pooler/dense/kernel:0', 'tf_bert_model/bert/pooler/dense/bias:0'] when minimizing the loss. If you're using `model.compile()`, did you forget to provide a `loss` argument?\n"
          ]
        },
        {
          "output_type": "stream",
          "name": "stdout",
          "text": [
            "1185/1185 [==============================] - 923s 753ms/step - loss: 0.6735 - accuracy: 0.5827 - recall: 0.6101 - val_loss: 0.6272 - val_accuracy: 0.6376 - val_recall: 0.5091\n",
            "Epoch 2/3\n",
            "1185/1185 [==============================] - 839s 708ms/step - loss: 0.5817 - accuracy: 0.6940 - recall: 0.7295 - val_loss: 0.5771 - val_accuracy: 0.7063 - val_recall: 0.6983\n",
            "Epoch 3/3\n",
            "1185/1185 [==============================] - 888s 750ms/step - loss: 0.4457 - accuracy: 0.7970 - recall: 0.8233 - val_loss: 0.5900 - val_accuracy: 0.7287 - val_recall: 0.8248\n"
          ]
        }
      ]
    },
    {
      "cell_type": "code",
      "source": [
        "preds = bert_classification_model.predict(bert_test_inputs)\n",
        "\n",
        "bert_test_predictions = pd.DataFrame()\n",
        "bert_test_predictions['doc_text'] = test_examples_str\n",
        "bert_test_predictions['y_test'] = y_test\n",
        "bert_test_predictions['y_pred'] = (preds > 0.5).astype(int)\n",
        "bert_test_predictions.head()"
      ],
      "metadata": {
        "id": "n-Zo0_YaTueA",
        "colab": {
          "base_uri": "https://localhost:8080/",
          "height": 224
        },
        "outputId": "51a72242-4105-4e56-fa85-04abc5148ab1"
      },
      "execution_count": null,
      "outputs": [
        {
          "output_type": "stream",
          "name": "stdout",
          "text": [
            "75/75 [==============================] - 95s 1s/step\n"
          ]
        },
        {
          "output_type": "execute_result",
          "data": {
            "text/plain": [
              "                                            doc_text  y_test  y_pred\n",
              "0  USSeek has no access to or control over these ...       0       1\n",
              "1  PayPal specifically disclaims all warranties w...       0       0\n",
              "2  First Party NVIDIA Remembers your preferred re...       0       1\n",
              "3  The following are saved\\n\\nThe email address a...       0       0\n",
              "4  We may freely transfer or assign this Agreemen...       1       1"
            ],
            "text/html": [
              "\n",
              "  <div id=\"df-9feb175c-0d43-404a-bc6b-e533f1b4b8fb\" class=\"colab-df-container\">\n",
              "    <div>\n",
              "<style scoped>\n",
              "    .dataframe tbody tr th:only-of-type {\n",
              "        vertical-align: middle;\n",
              "    }\n",
              "\n",
              "    .dataframe tbody tr th {\n",
              "        vertical-align: top;\n",
              "    }\n",
              "\n",
              "    .dataframe thead th {\n",
              "        text-align: right;\n",
              "    }\n",
              "</style>\n",
              "<table border=\"1\" class=\"dataframe\">\n",
              "  <thead>\n",
              "    <tr style=\"text-align: right;\">\n",
              "      <th></th>\n",
              "      <th>doc_text</th>\n",
              "      <th>y_test</th>\n",
              "      <th>y_pred</th>\n",
              "    </tr>\n",
              "  </thead>\n",
              "  <tbody>\n",
              "    <tr>\n",
              "      <th>0</th>\n",
              "      <td>USSeek has no access to or control over these ...</td>\n",
              "      <td>0</td>\n",
              "      <td>1</td>\n",
              "    </tr>\n",
              "    <tr>\n",
              "      <th>1</th>\n",
              "      <td>PayPal specifically disclaims all warranties w...</td>\n",
              "      <td>0</td>\n",
              "      <td>0</td>\n",
              "    </tr>\n",
              "    <tr>\n",
              "      <th>2</th>\n",
              "      <td>First Party NVIDIA Remembers your preferred re...</td>\n",
              "      <td>0</td>\n",
              "      <td>1</td>\n",
              "    </tr>\n",
              "    <tr>\n",
              "      <th>3</th>\n",
              "      <td>The following are saved\\n\\nThe email address a...</td>\n",
              "      <td>0</td>\n",
              "      <td>0</td>\n",
              "    </tr>\n",
              "    <tr>\n",
              "      <th>4</th>\n",
              "      <td>We may freely transfer or assign this Agreemen...</td>\n",
              "      <td>1</td>\n",
              "      <td>1</td>\n",
              "    </tr>\n",
              "  </tbody>\n",
              "</table>\n",
              "</div>\n",
              "    <div class=\"colab-df-buttons\">\n",
              "\n",
              "  <div class=\"colab-df-container\">\n",
              "    <button class=\"colab-df-convert\" onclick=\"convertToInteractive('df-9feb175c-0d43-404a-bc6b-e533f1b4b8fb')\"\n",
              "            title=\"Convert this dataframe to an interactive table.\"\n",
              "            style=\"display:none;\">\n",
              "\n",
              "  <svg xmlns=\"http://www.w3.org/2000/svg\" height=\"24px\" viewBox=\"0 -960 960 960\">\n",
              "    <path d=\"M120-120v-720h720v720H120Zm60-500h600v-160H180v160Zm220 220h160v-160H400v160Zm0 220h160v-160H400v160ZM180-400h160v-160H180v160Zm440 0h160v-160H620v160ZM180-180h160v-160H180v160Zm440 0h160v-160H620v160Z\"/>\n",
              "  </svg>\n",
              "    </button>\n",
              "\n",
              "  <style>\n",
              "    .colab-df-container {\n",
              "      display:flex;\n",
              "      gap: 12px;\n",
              "    }\n",
              "\n",
              "    .colab-df-convert {\n",
              "      background-color: #E8F0FE;\n",
              "      border: none;\n",
              "      border-radius: 50%;\n",
              "      cursor: pointer;\n",
              "      display: none;\n",
              "      fill: #1967D2;\n",
              "      height: 32px;\n",
              "      padding: 0 0 0 0;\n",
              "      width: 32px;\n",
              "    }\n",
              "\n",
              "    .colab-df-convert:hover {\n",
              "      background-color: #E2EBFA;\n",
              "      box-shadow: 0px 1px 2px rgba(60, 64, 67, 0.3), 0px 1px 3px 1px rgba(60, 64, 67, 0.15);\n",
              "      fill: #174EA6;\n",
              "    }\n",
              "\n",
              "    .colab-df-buttons div {\n",
              "      margin-bottom: 4px;\n",
              "    }\n",
              "\n",
              "    [theme=dark] .colab-df-convert {\n",
              "      background-color: #3B4455;\n",
              "      fill: #D2E3FC;\n",
              "    }\n",
              "\n",
              "    [theme=dark] .colab-df-convert:hover {\n",
              "      background-color: #434B5C;\n",
              "      box-shadow: 0px 1px 3px 1px rgba(0, 0, 0, 0.15);\n",
              "      filter: drop-shadow(0px 1px 2px rgba(0, 0, 0, 0.3));\n",
              "      fill: #FFFFFF;\n",
              "    }\n",
              "  </style>\n",
              "\n",
              "    <script>\n",
              "      const buttonEl =\n",
              "        document.querySelector('#df-9feb175c-0d43-404a-bc6b-e533f1b4b8fb button.colab-df-convert');\n",
              "      buttonEl.style.display =\n",
              "        google.colab.kernel.accessAllowed ? 'block' : 'none';\n",
              "\n",
              "      async function convertToInteractive(key) {\n",
              "        const element = document.querySelector('#df-9feb175c-0d43-404a-bc6b-e533f1b4b8fb');\n",
              "        const dataTable =\n",
              "          await google.colab.kernel.invokeFunction('convertToInteractive',\n",
              "                                                    [key], {});\n",
              "        if (!dataTable) return;\n",
              "\n",
              "        const docLinkHtml = 'Like what you see? Visit the ' +\n",
              "          '<a target=\"_blank\" href=https://colab.research.google.com/notebooks/data_table.ipynb>data table notebook</a>'\n",
              "          + ' to learn more about interactive tables.';\n",
              "        element.innerHTML = '';\n",
              "        dataTable['output_type'] = 'display_data';\n",
              "        await google.colab.output.renderOutput(dataTable, element);\n",
              "        const docLink = document.createElement('div');\n",
              "        docLink.innerHTML = docLinkHtml;\n",
              "        element.appendChild(docLink);\n",
              "      }\n",
              "    </script>\n",
              "  </div>\n",
              "\n",
              "\n",
              "<div id=\"df-2d635ed0-f775-4bf5-9ce6-43dfa690d77a\">\n",
              "  <button class=\"colab-df-quickchart\" onclick=\"quickchart('df-2d635ed0-f775-4bf5-9ce6-43dfa690d77a')\"\n",
              "            title=\"Suggest charts\"\n",
              "            style=\"display:none;\">\n",
              "\n",
              "<svg xmlns=\"http://www.w3.org/2000/svg\" height=\"24px\"viewBox=\"0 0 24 24\"\n",
              "     width=\"24px\">\n",
              "    <g>\n",
              "        <path d=\"M19 3H5c-1.1 0-2 .9-2 2v14c0 1.1.9 2 2 2h14c1.1 0 2-.9 2-2V5c0-1.1-.9-2-2-2zM9 17H7v-7h2v7zm4 0h-2V7h2v10zm4 0h-2v-4h2v4z\"/>\n",
              "    </g>\n",
              "</svg>\n",
              "  </button>\n",
              "\n",
              "<style>\n",
              "  .colab-df-quickchart {\n",
              "      --bg-color: #E8F0FE;\n",
              "      --fill-color: #1967D2;\n",
              "      --hover-bg-color: #E2EBFA;\n",
              "      --hover-fill-color: #174EA6;\n",
              "      --disabled-fill-color: #AAA;\n",
              "      --disabled-bg-color: #DDD;\n",
              "  }\n",
              "\n",
              "  [theme=dark] .colab-df-quickchart {\n",
              "      --bg-color: #3B4455;\n",
              "      --fill-color: #D2E3FC;\n",
              "      --hover-bg-color: #434B5C;\n",
              "      --hover-fill-color: #FFFFFF;\n",
              "      --disabled-bg-color: #3B4455;\n",
              "      --disabled-fill-color: #666;\n",
              "  }\n",
              "\n",
              "  .colab-df-quickchart {\n",
              "    background-color: var(--bg-color);\n",
              "    border: none;\n",
              "    border-radius: 50%;\n",
              "    cursor: pointer;\n",
              "    display: none;\n",
              "    fill: var(--fill-color);\n",
              "    height: 32px;\n",
              "    padding: 0;\n",
              "    width: 32px;\n",
              "  }\n",
              "\n",
              "  .colab-df-quickchart:hover {\n",
              "    background-color: var(--hover-bg-color);\n",
              "    box-shadow: 0 1px 2px rgba(60, 64, 67, 0.3), 0 1px 3px 1px rgba(60, 64, 67, 0.15);\n",
              "    fill: var(--button-hover-fill-color);\n",
              "  }\n",
              "\n",
              "  .colab-df-quickchart-complete:disabled,\n",
              "  .colab-df-quickchart-complete:disabled:hover {\n",
              "    background-color: var(--disabled-bg-color);\n",
              "    fill: var(--disabled-fill-color);\n",
              "    box-shadow: none;\n",
              "  }\n",
              "\n",
              "  .colab-df-spinner {\n",
              "    border: 2px solid var(--fill-color);\n",
              "    border-color: transparent;\n",
              "    border-bottom-color: var(--fill-color);\n",
              "    animation:\n",
              "      spin 1s steps(1) infinite;\n",
              "  }\n",
              "\n",
              "  @keyframes spin {\n",
              "    0% {\n",
              "      border-color: transparent;\n",
              "      border-bottom-color: var(--fill-color);\n",
              "      border-left-color: var(--fill-color);\n",
              "    }\n",
              "    20% {\n",
              "      border-color: transparent;\n",
              "      border-left-color: var(--fill-color);\n",
              "      border-top-color: var(--fill-color);\n",
              "    }\n",
              "    30% {\n",
              "      border-color: transparent;\n",
              "      border-left-color: var(--fill-color);\n",
              "      border-top-color: var(--fill-color);\n",
              "      border-right-color: var(--fill-color);\n",
              "    }\n",
              "    40% {\n",
              "      border-color: transparent;\n",
              "      border-right-color: var(--fill-color);\n",
              "      border-top-color: var(--fill-color);\n",
              "    }\n",
              "    60% {\n",
              "      border-color: transparent;\n",
              "      border-right-color: var(--fill-color);\n",
              "    }\n",
              "    80% {\n",
              "      border-color: transparent;\n",
              "      border-right-color: var(--fill-color);\n",
              "      border-bottom-color: var(--fill-color);\n",
              "    }\n",
              "    90% {\n",
              "      border-color: transparent;\n",
              "      border-bottom-color: var(--fill-color);\n",
              "    }\n",
              "  }\n",
              "</style>\n",
              "\n",
              "  <script>\n",
              "    async function quickchart(key) {\n",
              "      const quickchartButtonEl =\n",
              "        document.querySelector('#' + key + ' button');\n",
              "      quickchartButtonEl.disabled = true;  // To prevent multiple clicks.\n",
              "      quickchartButtonEl.classList.add('colab-df-spinner');\n",
              "      try {\n",
              "        const charts = await google.colab.kernel.invokeFunction(\n",
              "            'suggestCharts', [key], {});\n",
              "      } catch (error) {\n",
              "        console.error('Error during call to suggestCharts:', error);\n",
              "      }\n",
              "      quickchartButtonEl.classList.remove('colab-df-spinner');\n",
              "      quickchartButtonEl.classList.add('colab-df-quickchart-complete');\n",
              "    }\n",
              "    (() => {\n",
              "      let quickchartButtonEl =\n",
              "        document.querySelector('#df-2d635ed0-f775-4bf5-9ce6-43dfa690d77a button');\n",
              "      quickchartButtonEl.style.display =\n",
              "        google.colab.kernel.accessAllowed ? 'block' : 'none';\n",
              "    })();\n",
              "  </script>\n",
              "</div>\n",
              "\n",
              "    </div>\n",
              "  </div>\n"
            ],
            "application/vnd.google.colaboratory.intrinsic+json": {
              "type": "dataframe",
              "variable_name": "bert_test_predictions",
              "summary": "{\n  \"name\": \"bert_test_predictions\",\n  \"rows\": 2370,\n  \"fields\": [\n    {\n      \"column\": \"doc_text\",\n      \"properties\": {\n        \"dtype\": \"string\",\n        \"num_unique_values\": 2282,\n        \"samples\": [\n          \"This is the grant of a license, not a transfer of title, and under this license you may not\\nmodify or copy the materials. [SEP] use the materials for any commercial purpose, or for any public display commercial or noncommercial. [SEP] attempt to decompile or reverse engineer any software contained used to provide the Services.\",\n          \"Except for Marketing Cloud, we do not share your voluntarily provided email address with any third party. [SEP] You may manage your Britannica newsletter subscriptions by subscribing or unsubscribing at any time using the link included in the related email. [SEP] Please note that if you have set your browser to block cookies, this may have an impact on your ability to unsubscribe.\",\n          \"email, phone number and license number. [SEP] SelfReported Information. [SEP] You have the option to provide us with additional information about yourself through surveys, forms, features and applications.\"\n        ],\n        \"semantic_type\": \"\",\n        \"description\": \"\"\n      }\n    },\n    {\n      \"column\": \"y_test\",\n      \"properties\": {\n        \"dtype\": \"number\",\n        \"std\": 0,\n        \"min\": 0,\n        \"max\": 1,\n        \"num_unique_values\": 2,\n        \"samples\": [\n          1,\n          0\n        ],\n        \"semantic_type\": \"\",\n        \"description\": \"\"\n      }\n    },\n    {\n      \"column\": \"y_pred\",\n      \"properties\": {\n        \"dtype\": \"number\",\n        \"std\": 0,\n        \"min\": 0,\n        \"max\": 1,\n        \"num_unique_values\": 2,\n        \"samples\": [\n          0,\n          1\n        ],\n        \"semantic_type\": \"\",\n        \"description\": \"\"\n      }\n    }\n  ]\n}"
            }
          },
          "metadata": {},
          "execution_count": 68
        }
      ]
    },
    {
      "cell_type": "code",
      "source": [
        "# Write output to file\n",
        "filepath = '/content/drive/MyDrive/266 Final Project/Prediction Data/bert_chunk_predictions.csv'\n",
        "bert_test_predictions.to_csv(filepath, index = False)"
      ],
      "metadata": {
        "id": "JvQLsPdKExdo"
      },
      "execution_count": null,
      "outputs": []
    },
    {
      "cell_type": "code",
      "source": [],
      "metadata": {
        "id": "YvBcxld4qg0C"
      },
      "execution_count": null,
      "outputs": []
    },
    {
      "cell_type": "markdown",
      "source": [
        "# BERT with Global Classification & Sentence Contribution"
      ],
      "metadata": {
        "id": "YXfcKIe-tFuP"
      }
    },
    {
      "cell_type": "code",
      "source": [
        "test = 'here is string one. here is string two'\n",
        "bert_tokenizer(test)"
      ],
      "metadata": {
        "colab": {
          "base_uri": "https://localhost:8080/"
        },
        "id": "I_aX0HqRVB-6",
        "outputId": "b763317d-2922-4fa8-d102-724c35edd828"
      },
      "execution_count": null,
      "outputs": [
        {
          "output_type": "execute_result",
          "data": {
            "text/plain": [
              "{'input_ids': [101, 2182, 2003, 5164, 2028, 1012, 2182, 2003, 5164, 2048, 102], 'token_type_ids': [0, 0, 0, 0, 0, 0, 0, 0, 0, 0, 0], 'attention_mask': [1, 1, 1, 1, 1, 1, 1, 1, 1, 1, 1]}"
            ]
          },
          "metadata": {},
          "execution_count": 10
        }
      ]
    },
    {
      "cell_type": "code",
      "source": [
        "test = ['here is string one. here is string two. here is string third.']\n",
        "\n",
        "sample = [f\" {bert_tokenizer.sep_token} \".join(sent_tokenize(X)) for X in test]\n",
        "sample = bert_tokenizer(sample)\n",
        "sample"
      ],
      "metadata": {
        "colab": {
          "base_uri": "https://localhost:8080/"
        },
        "id": "AjJxqeKkUR7V",
        "outputId": "0ffe123a-1347-4bfe-9a10-08af1012bb04"
      },
      "execution_count": null,
      "outputs": [
        {
          "output_type": "execute_result",
          "data": {
            "text/plain": [
              "{'input_ids': [[101, 2182, 2003, 5164, 2028, 1012, 102, 2182, 2003, 5164, 2048, 1012, 102, 2182, 2003, 5164, 2353, 1012, 102]], 'token_type_ids': [[0, 0, 0, 0, 0, 0, 0, 0, 0, 0, 0, 0, 0, 0, 0, 0, 0, 0, 0]], 'attention_mask': [[1, 1, 1, 1, 1, 1, 1, 1, 1, 1, 1, 1, 1, 1, 1, 1, 1, 1, 1]]}"
            ]
          },
          "metadata": {},
          "execution_count": 19
        }
      ]
    },
    {
      "cell_type": "markdown",
      "source": [
        "[CLS] token id: 101\n",
        "\n",
        "[SEP] token id: 102\n",
        "\n",
        "1. Use CLS to output embedding to classify the entire input as 0 or 1.\n",
        "2. Extract token embeddings for each segment between [SEP] tokens\n",
        "  * Try mean pooling, or try using the [SEP] token embedding itself.\n",
        "  * Analyze attention weights, or calculate cosine similarity between segment embedding and [CLS] embedding"
      ],
      "metadata": {
        "id": "jgjKF9leU6AU"
      }
    },
    {
      "cell_type": "code",
      "source": [
        "tf.keras.backend.clear_session()\n",
        "\n",
        "bert_classification_model, trained_bert_model = create_bert_cls_model()\n",
        "\n",
        "# early_stopping = EarlyStopping(monitor=\"val_loss\", patience=3, restore_best_weights=True)\n",
        "\n",
        "bert_classification_model_history = bert_classification_model.fit(\n",
        "    bert_train_inputs,\n",
        "    bert_train_labels,\n",
        "    validation_data = (bert_test_inputs, bert_test_labels),\n",
        "    batch_size = 8,\n",
        "    epochs = 3\n",
        ")"
      ],
      "metadata": {
        "colab": {
          "base_uri": "https://localhost:8080/"
        },
        "id": "LJAu-ymtmVU7",
        "outputId": "b8033db4-7059-4403-dd21-b203db4e7cfb"
      },
      "execution_count": null,
      "outputs": [
        {
          "metadata": {
            "tags": null
          },
          "name": "stdout",
          "output_type": "stream",
          "text": [
            "Epoch 1/3\n"
          ]
        },
        {
          "metadata": {
            "tags": null
          },
          "name": "stderr",
          "output_type": "stream",
          "text": [
            "WARNING:tensorflow:Gradients do not exist for variables ['tf_bert_model/bert/embeddings/word_embeddings/weight:0', 'tf_bert_model/bert/embeddings/token_type_embeddings/embeddings:0', 'tf_bert_model/bert/embeddings/position_embeddings/embeddings:0', 'tf_bert_model/bert/embeddings/LayerNorm/gamma:0', 'tf_bert_model/bert/embeddings/LayerNorm/beta:0', 'tf_bert_model/bert/pooler/dense/kernel:0', 'tf_bert_model/bert/pooler/dense/bias:0'] when minimizing the loss. If you're using `model.compile()`, did you forget to provide a `loss` argument?\n",
            "WARNING:tensorflow:Gradients do not exist for variables ['tf_bert_model/bert/embeddings/word_embeddings/weight:0', 'tf_bert_model/bert/embeddings/token_type_embeddings/embeddings:0', 'tf_bert_model/bert/embeddings/position_embeddings/embeddings:0', 'tf_bert_model/bert/embeddings/LayerNorm/gamma:0', 'tf_bert_model/bert/embeddings/LayerNorm/beta:0', 'tf_bert_model/bert/pooler/dense/kernel:0', 'tf_bert_model/bert/pooler/dense/bias:0'] when minimizing the loss. If you're using `model.compile()`, did you forget to provide a `loss` argument?\n",
            "WARNING:tensorflow:Gradients do not exist for variables ['tf_bert_model/bert/embeddings/word_embeddings/weight:0', 'tf_bert_model/bert/embeddings/token_type_embeddings/embeddings:0', 'tf_bert_model/bert/embeddings/position_embeddings/embeddings:0', 'tf_bert_model/bert/embeddings/LayerNorm/gamma:0', 'tf_bert_model/bert/embeddings/LayerNorm/beta:0', 'tf_bert_model/bert/pooler/dense/kernel:0', 'tf_bert_model/bert/pooler/dense/bias:0'] when minimizing the loss. If you're using `model.compile()`, did you forget to provide a `loss` argument?\n",
            "WARNING:tensorflow:Gradients do not exist for variables ['tf_bert_model/bert/embeddings/word_embeddings/weight:0', 'tf_bert_model/bert/embeddings/token_type_embeddings/embeddings:0', 'tf_bert_model/bert/embeddings/position_embeddings/embeddings:0', 'tf_bert_model/bert/embeddings/LayerNorm/gamma:0', 'tf_bert_model/bert/embeddings/LayerNorm/beta:0', 'tf_bert_model/bert/pooler/dense/kernel:0', 'tf_bert_model/bert/pooler/dense/bias:0'] when minimizing the loss. If you're using `model.compile()`, did you forget to provide a `loss` argument?\n"
          ]
        },
        {
          "output_type": "stream",
          "name": "stdout",
          "text": [
            "1185/1185 [==============================] - 921s 750ms/step - loss: 0.6681 - accuracy: 0.5912 - recall: 0.6196 - val_loss: 0.6302 - val_accuracy: 0.6468 - val_recall: 0.9116\n",
            "Epoch 2/3\n",
            "1185/1185 [==============================] - 884s 746ms/step - loss: 0.5781 - accuracy: 0.7016 - recall: 0.7353 - val_loss: 0.5725 - val_accuracy: 0.7076 - val_recall: 0.8347\n",
            "Epoch 3/3\n",
            "1185/1185 [==============================] - 885s 747ms/step - loss: 0.4580 - accuracy: 0.7935 - recall: 0.8112 - val_loss: 0.5538 - val_accuracy: 0.7304 - val_recall: 0.8107\n"
          ]
        }
      ]
    },
    {
      "cell_type": "code",
      "source": [
        "# Checkpoint the model and fine-tuned bert embeddings\n",
        "bert_classification_model.save(\"/content/drive/MyDrive/266 Final Project/model_checkpoints/bert_chunk_classification_model/\", save_format=\"tf\")"
      ],
      "metadata": {
        "id": "_jfudn3btGbp"
      },
      "execution_count": null,
      "outputs": []
    },
    {
      "cell_type": "code",
      "source": [
        "# Get predictions for test data\n",
        "preds = bert_classification_model.predict(bert_test_inputs)\n",
        "\n",
        "X_test['y_test'] = y_test\n",
        "X_test['y_pred'] = (preds > 0.5).astype(int)\n",
        "X_test.head()"
      ],
      "metadata": {
        "colab": {
          "base_uri": "https://localhost:8080/",
          "height": 224
        },
        "id": "JSjl_pDPmolu",
        "outputId": "2c3a2b4b-09b5-43a2-c113-c5c373a8eb04"
      },
      "execution_count": null,
      "outputs": [
        {
          "output_type": "stream",
          "name": "stdout",
          "text": [
            "75/75 [==============================] - 95s 1s/step\n"
          ]
        },
        {
          "output_type": "execute_result",
          "data": {
            "text/plain": [
              "                                                doc_text  \\\n",
              "15349  Sellers may also offer Custom Offers to Buyers...   \n",
              "24752  See more at httpconsumercal.orgcaliforniaonlin...   \n",
              "15597  At Anonyome Labs, Inc.\\nAnonyome, we, us, or o...   \n",
              "23630  Does our site allow thirdparty behavioral trac...   \n",
              "15123  We may freely transfer or assign this Agreemen...   \n",
              "\n",
              "                                               highlight  y_test  y_pred  \n",
              "15349                                                          0       0  \n",
              "24752                                                          0       1  \n",
              "15597                                                          0       0  \n",
              "23630                                                          0       1  \n",
              "15123  If any provision of this Agreement is held by ...       1       1  "
            ],
            "text/html": [
              "\n",
              "  <div id=\"df-cd1850d1-66ea-45ac-a24c-beb0cfec21d7\" class=\"colab-df-container\">\n",
              "    <div>\n",
              "<style scoped>\n",
              "    .dataframe tbody tr th:only-of-type {\n",
              "        vertical-align: middle;\n",
              "    }\n",
              "\n",
              "    .dataframe tbody tr th {\n",
              "        vertical-align: top;\n",
              "    }\n",
              "\n",
              "    .dataframe thead th {\n",
              "        text-align: right;\n",
              "    }\n",
              "</style>\n",
              "<table border=\"1\" class=\"dataframe\">\n",
              "  <thead>\n",
              "    <tr style=\"text-align: right;\">\n",
              "      <th></th>\n",
              "      <th>doc_text</th>\n",
              "      <th>highlight</th>\n",
              "      <th>y_test</th>\n",
              "      <th>y_pred</th>\n",
              "    </tr>\n",
              "  </thead>\n",
              "  <tbody>\n",
              "    <tr>\n",
              "      <th>15349</th>\n",
              "      <td>Sellers may also offer Custom Offers to Buyers...</td>\n",
              "      <td></td>\n",
              "      <td>0</td>\n",
              "      <td>0</td>\n",
              "    </tr>\n",
              "    <tr>\n",
              "      <th>24752</th>\n",
              "      <td>See more at httpconsumercal.orgcaliforniaonlin...</td>\n",
              "      <td></td>\n",
              "      <td>0</td>\n",
              "      <td>1</td>\n",
              "    </tr>\n",
              "    <tr>\n",
              "      <th>15597</th>\n",
              "      <td>At Anonyome Labs, Inc.\\nAnonyome, we, us, or o...</td>\n",
              "      <td></td>\n",
              "      <td>0</td>\n",
              "      <td>0</td>\n",
              "    </tr>\n",
              "    <tr>\n",
              "      <th>23630</th>\n",
              "      <td>Does our site allow thirdparty behavioral trac...</td>\n",
              "      <td></td>\n",
              "      <td>0</td>\n",
              "      <td>1</td>\n",
              "    </tr>\n",
              "    <tr>\n",
              "      <th>15123</th>\n",
              "      <td>We may freely transfer or assign this Agreemen...</td>\n",
              "      <td>If any provision of this Agreement is held by ...</td>\n",
              "      <td>1</td>\n",
              "      <td>1</td>\n",
              "    </tr>\n",
              "  </tbody>\n",
              "</table>\n",
              "</div>\n",
              "    <div class=\"colab-df-buttons\">\n",
              "\n",
              "  <div class=\"colab-df-container\">\n",
              "    <button class=\"colab-df-convert\" onclick=\"convertToInteractive('df-cd1850d1-66ea-45ac-a24c-beb0cfec21d7')\"\n",
              "            title=\"Convert this dataframe to an interactive table.\"\n",
              "            style=\"display:none;\">\n",
              "\n",
              "  <svg xmlns=\"http://www.w3.org/2000/svg\" height=\"24px\" viewBox=\"0 -960 960 960\">\n",
              "    <path d=\"M120-120v-720h720v720H120Zm60-500h600v-160H180v160Zm220 220h160v-160H400v160Zm0 220h160v-160H400v160ZM180-400h160v-160H180v160Zm440 0h160v-160H620v160ZM180-180h160v-160H180v160Zm440 0h160v-160H620v160Z\"/>\n",
              "  </svg>\n",
              "    </button>\n",
              "\n",
              "  <style>\n",
              "    .colab-df-container {\n",
              "      display:flex;\n",
              "      gap: 12px;\n",
              "    }\n",
              "\n",
              "    .colab-df-convert {\n",
              "      background-color: #E8F0FE;\n",
              "      border: none;\n",
              "      border-radius: 50%;\n",
              "      cursor: pointer;\n",
              "      display: none;\n",
              "      fill: #1967D2;\n",
              "      height: 32px;\n",
              "      padding: 0 0 0 0;\n",
              "      width: 32px;\n",
              "    }\n",
              "\n",
              "    .colab-df-convert:hover {\n",
              "      background-color: #E2EBFA;\n",
              "      box-shadow: 0px 1px 2px rgba(60, 64, 67, 0.3), 0px 1px 3px 1px rgba(60, 64, 67, 0.15);\n",
              "      fill: #174EA6;\n",
              "    }\n",
              "\n",
              "    .colab-df-buttons div {\n",
              "      margin-bottom: 4px;\n",
              "    }\n",
              "\n",
              "    [theme=dark] .colab-df-convert {\n",
              "      background-color: #3B4455;\n",
              "      fill: #D2E3FC;\n",
              "    }\n",
              "\n",
              "    [theme=dark] .colab-df-convert:hover {\n",
              "      background-color: #434B5C;\n",
              "      box-shadow: 0px 1px 3px 1px rgba(0, 0, 0, 0.15);\n",
              "      filter: drop-shadow(0px 1px 2px rgba(0, 0, 0, 0.3));\n",
              "      fill: #FFFFFF;\n",
              "    }\n",
              "  </style>\n",
              "\n",
              "    <script>\n",
              "      const buttonEl =\n",
              "        document.querySelector('#df-cd1850d1-66ea-45ac-a24c-beb0cfec21d7 button.colab-df-convert');\n",
              "      buttonEl.style.display =\n",
              "        google.colab.kernel.accessAllowed ? 'block' : 'none';\n",
              "\n",
              "      async function convertToInteractive(key) {\n",
              "        const element = document.querySelector('#df-cd1850d1-66ea-45ac-a24c-beb0cfec21d7');\n",
              "        const dataTable =\n",
              "          await google.colab.kernel.invokeFunction('convertToInteractive',\n",
              "                                                    [key], {});\n",
              "        if (!dataTable) return;\n",
              "\n",
              "        const docLinkHtml = 'Like what you see? Visit the ' +\n",
              "          '<a target=\"_blank\" href=https://colab.research.google.com/notebooks/data_table.ipynb>data table notebook</a>'\n",
              "          + ' to learn more about interactive tables.';\n",
              "        element.innerHTML = '';\n",
              "        dataTable['output_type'] = 'display_data';\n",
              "        await google.colab.output.renderOutput(dataTable, element);\n",
              "        const docLink = document.createElement('div');\n",
              "        docLink.innerHTML = docLinkHtml;\n",
              "        element.appendChild(docLink);\n",
              "      }\n",
              "    </script>\n",
              "  </div>\n",
              "\n",
              "\n",
              "<div id=\"df-9d9b767b-feeb-4d3e-b4f8-c8f829fb6e6a\">\n",
              "  <button class=\"colab-df-quickchart\" onclick=\"quickchart('df-9d9b767b-feeb-4d3e-b4f8-c8f829fb6e6a')\"\n",
              "            title=\"Suggest charts\"\n",
              "            style=\"display:none;\">\n",
              "\n",
              "<svg xmlns=\"http://www.w3.org/2000/svg\" height=\"24px\"viewBox=\"0 0 24 24\"\n",
              "     width=\"24px\">\n",
              "    <g>\n",
              "        <path d=\"M19 3H5c-1.1 0-2 .9-2 2v14c0 1.1.9 2 2 2h14c1.1 0 2-.9 2-2V5c0-1.1-.9-2-2-2zM9 17H7v-7h2v7zm4 0h-2V7h2v10zm4 0h-2v-4h2v4z\"/>\n",
              "    </g>\n",
              "</svg>\n",
              "  </button>\n",
              "\n",
              "<style>\n",
              "  .colab-df-quickchart {\n",
              "      --bg-color: #E8F0FE;\n",
              "      --fill-color: #1967D2;\n",
              "      --hover-bg-color: #E2EBFA;\n",
              "      --hover-fill-color: #174EA6;\n",
              "      --disabled-fill-color: #AAA;\n",
              "      --disabled-bg-color: #DDD;\n",
              "  }\n",
              "\n",
              "  [theme=dark] .colab-df-quickchart {\n",
              "      --bg-color: #3B4455;\n",
              "      --fill-color: #D2E3FC;\n",
              "      --hover-bg-color: #434B5C;\n",
              "      --hover-fill-color: #FFFFFF;\n",
              "      --disabled-bg-color: #3B4455;\n",
              "      --disabled-fill-color: #666;\n",
              "  }\n",
              "\n",
              "  .colab-df-quickchart {\n",
              "    background-color: var(--bg-color);\n",
              "    border: none;\n",
              "    border-radius: 50%;\n",
              "    cursor: pointer;\n",
              "    display: none;\n",
              "    fill: var(--fill-color);\n",
              "    height: 32px;\n",
              "    padding: 0;\n",
              "    width: 32px;\n",
              "  }\n",
              "\n",
              "  .colab-df-quickchart:hover {\n",
              "    background-color: var(--hover-bg-color);\n",
              "    box-shadow: 0 1px 2px rgba(60, 64, 67, 0.3), 0 1px 3px 1px rgba(60, 64, 67, 0.15);\n",
              "    fill: var(--button-hover-fill-color);\n",
              "  }\n",
              "\n",
              "  .colab-df-quickchart-complete:disabled,\n",
              "  .colab-df-quickchart-complete:disabled:hover {\n",
              "    background-color: var(--disabled-bg-color);\n",
              "    fill: var(--disabled-fill-color);\n",
              "    box-shadow: none;\n",
              "  }\n",
              "\n",
              "  .colab-df-spinner {\n",
              "    border: 2px solid var(--fill-color);\n",
              "    border-color: transparent;\n",
              "    border-bottom-color: var(--fill-color);\n",
              "    animation:\n",
              "      spin 1s steps(1) infinite;\n",
              "  }\n",
              "\n",
              "  @keyframes spin {\n",
              "    0% {\n",
              "      border-color: transparent;\n",
              "      border-bottom-color: var(--fill-color);\n",
              "      border-left-color: var(--fill-color);\n",
              "    }\n",
              "    20% {\n",
              "      border-color: transparent;\n",
              "      border-left-color: var(--fill-color);\n",
              "      border-top-color: var(--fill-color);\n",
              "    }\n",
              "    30% {\n",
              "      border-color: transparent;\n",
              "      border-left-color: var(--fill-color);\n",
              "      border-top-color: var(--fill-color);\n",
              "      border-right-color: var(--fill-color);\n",
              "    }\n",
              "    40% {\n",
              "      border-color: transparent;\n",
              "      border-right-color: var(--fill-color);\n",
              "      border-top-color: var(--fill-color);\n",
              "    }\n",
              "    60% {\n",
              "      border-color: transparent;\n",
              "      border-right-color: var(--fill-color);\n",
              "    }\n",
              "    80% {\n",
              "      border-color: transparent;\n",
              "      border-right-color: var(--fill-color);\n",
              "      border-bottom-color: var(--fill-color);\n",
              "    }\n",
              "    90% {\n",
              "      border-color: transparent;\n",
              "      border-bottom-color: var(--fill-color);\n",
              "    }\n",
              "  }\n",
              "</style>\n",
              "\n",
              "  <script>\n",
              "    async function quickchart(key) {\n",
              "      const quickchartButtonEl =\n",
              "        document.querySelector('#' + key + ' button');\n",
              "      quickchartButtonEl.disabled = true;  // To prevent multiple clicks.\n",
              "      quickchartButtonEl.classList.add('colab-df-spinner');\n",
              "      try {\n",
              "        const charts = await google.colab.kernel.invokeFunction(\n",
              "            'suggestCharts', [key], {});\n",
              "      } catch (error) {\n",
              "        console.error('Error during call to suggestCharts:', error);\n",
              "      }\n",
              "      quickchartButtonEl.classList.remove('colab-df-spinner');\n",
              "      quickchartButtonEl.classList.add('colab-df-quickchart-complete');\n",
              "    }\n",
              "    (() => {\n",
              "      let quickchartButtonEl =\n",
              "        document.querySelector('#df-9d9b767b-feeb-4d3e-b4f8-c8f829fb6e6a button');\n",
              "      quickchartButtonEl.style.display =\n",
              "        google.colab.kernel.accessAllowed ? 'block' : 'none';\n",
              "    })();\n",
              "  </script>\n",
              "</div>\n",
              "\n",
              "    </div>\n",
              "  </div>\n"
            ],
            "application/vnd.google.colaboratory.intrinsic+json": {
              "type": "dataframe",
              "variable_name": "X_test",
              "summary": "{\n  \"name\": \"X_test\",\n  \"rows\": 2370,\n  \"fields\": [\n    {\n      \"column\": \"doc_text\",\n      \"properties\": {\n        \"dtype\": \"string\",\n        \"num_unique_values\": 2284,\n        \"samples\": [\n          \"Microsoft reserves the right to charge you for such Services at the normal rate if Microsoft determines in its reasonable discretion that you are breaching the terms and conditions of the offer. We may change the price of the Services at any time and if you have a recurring purchase, we will notify you by email, or other reasonable manner, at least 15 days before the price change. If you do not agree to the price change, you must cancel and stop using the Services before the price change takes effect.\",\n          \"We are not responsible for any lost, stolen, or compromised passwords or for any activity on your account via unauthorized password activity. We retain the personal data we collect for so long as is reasonably necessary to fulfill the purposes for which the data was collected, to perform our contractual and legal obligations, and for any applicable statute of limitations periods for the purposes of bringing and defending claims. ThirdParty Links\\n\\n\\n\\nOur Website may contain links to thirdparty websites and applications.\",\n          \"You are solely responsible for the activity that occurs on your account, and you must keep your account password secure. We encourage you to use strong passwords passwords that use a combination of upper and lower case letters, numbers and symbols with your account. You must notify wikiHow immediately of any breach of security or unauthorized use of your account.\"\n        ],\n        \"semantic_type\": \"\",\n        \"description\": \"\"\n      }\n    },\n    {\n      \"column\": \"highlight\",\n      \"properties\": {\n        \"dtype\": \"category\",\n        \"num_unique_values\": 1107,\n        \"samples\": [\n          \"however, there are no refunds for cancellation.\",\n          \"You can stop all collection of information by the Applications by uninstalling the Applications.\",\n          \"We do not knowingly collect personal information from children under 13.\"\n        ],\n        \"semantic_type\": \"\",\n        \"description\": \"\"\n      }\n    },\n    {\n      \"column\": \"y_test\",\n      \"properties\": {\n        \"dtype\": \"number\",\n        \"std\": 0,\n        \"min\": 0,\n        \"max\": 1,\n        \"num_unique_values\": 2,\n        \"samples\": [\n          1,\n          0\n        ],\n        \"semantic_type\": \"\",\n        \"description\": \"\"\n      }\n    },\n    {\n      \"column\": \"y_pred\",\n      \"properties\": {\n        \"dtype\": \"number\",\n        \"std\": 0,\n        \"min\": 0,\n        \"max\": 1,\n        \"num_unique_values\": 2,\n        \"samples\": [\n          1,\n          0\n        ],\n        \"semantic_type\": \"\",\n        \"description\": \"\"\n      }\n    }\n  ]\n}"
            }
          },
          "metadata": {},
          "execution_count": 60
        }
      ]
    },
    {
      "cell_type": "code",
      "source": [
        "# Example to show how we can get the mean of attention weights per token, for a specific test sample\n",
        "# outputs = trained_bert_model(bert_test_inputs[0][0:1], bert_test_inputs[1][0:1], bert_test_inputs[2][0:1], output_attentions=True)\n",
        "# attentions = outputs.attentions\n",
        "# tf.reduce_mean(attentions[-1][:, :, 0, :], axis=1)"
      ],
      "metadata": {
        "id": "k1NS-y4kPnVW"
      },
      "execution_count": null,
      "outputs": []
    },
    {
      "cell_type": "code",
      "source": [
        "# Calculate the sentence contribution for each chunk -> mean sentence attention weights\n",
        "def calculate_sentence_contribution_attention(bert_model, inputs, tokens, attention):\n",
        "\n",
        "  outputs = bert_model(inputs, tokens, attention, output_attentions=True)\n",
        "  attentions = outputs.attentions\n",
        "  token_attention = tf.reduce_mean(attentions[-1][:, :, 0, :], axis=1)\n",
        "\n",
        "  # Identify the [SEP] token indeces for each input and store the indeces for all words between [SEP] tokens\n",
        "  sep_tokens = np.where(inputs == bert_tokenizer.sep_token_id)[1]\n",
        "  sentence_indices = [(1, sep_tokens[0])]\n",
        "  for i in range(len(sep_tokens)-1):\n",
        "    sentence_indices.append((sep_tokens[i] + 1, sep_tokens[i+1]))\n",
        "\n",
        "  # Using the indeces found above, sum the attention weights for all tokens between the indeces\n",
        "  sentence_contributions = []\n",
        "  for start, end in sentence_indices:\n",
        "    sentence_attention = tf.reduce_sum(token_attention[:, start:end], axis=1)\n",
        "    sentence_contributions.append(sentence_attention.numpy()[0])\n",
        "\n",
        "  # Normalize the aggregated sentence attention weights, to compare the importance of each sentence\n",
        "  total_attention = sum(sentence_contributions)\n",
        "  normalized_contributions = [x / total_attention for x in sentence_contributions]\n",
        "  return normalized_contributions"
      ],
      "metadata": {
        "id": "9c1j56TfTF8H"
      },
      "execution_count": null,
      "outputs": []
    },
    {
      "cell_type": "code",
      "source": [
        "# Calculate the sentence contribution for each chunk -> cosine similarity CLS token and sentence max sentence embeddings\n",
        "def calculate_sentence_contribution_max(bert_model, inputs, tokens, attention):\n",
        "\n",
        "  # Get embeddings for CLS token\n",
        "  outputs = bert_model(inputs, tokens, attention)\n",
        "  token_embeddings = outputs[0]\n",
        "  cls = token_embeddings[:,0,:]\n",
        "  cls = tf.nn.l2_normalize(cls,axis = -1)\n",
        "\n",
        "  # Identify the [SEP] token indeces for each input and store the indeces for all words between [SEP] tokens\n",
        "  sep_tokens = np.where(inputs == bert_tokenizer.sep_token_id)[1]\n",
        "  sentence_indices = [(1, sep_tokens[0])]\n",
        "  for i in range(len(sep_tokens)-1):\n",
        "    sentence_indices.append((sep_tokens[i] + 1, sep_tokens[i+1]))\n",
        "\n",
        "  # Using the indeces found above, iterate through sentences and get embeddings for each sentence using max pooling\n",
        "  sentence_contributions = []\n",
        "  for start, end in sentence_indices:\n",
        "    sentence_embedding = tf.reduce_max(token_embeddings[:, start:end], axis=1)\n",
        "    sentence_embedding = tf.nn.l2_normalize(sentence_embedding, axis=-1)\n",
        "    sentence_contributions.append(sentence_embedding.numpy()[0])\n",
        "\n",
        "  # Calculate cosine similarity between CLS embeddings and sentence embeddings\n",
        "  cosine_similarities = [(tf.reduce_sum(tf.multiply(cls, x))).numpy() for x in sentence_contributions]\n",
        "  return cosine_similarities"
      ],
      "metadata": {
        "id": "G2a-rVvS8QDY"
      },
      "execution_count": null,
      "outputs": []
    },
    {
      "cell_type": "code",
      "source": [
        "# Iterate through test examples, and calculate the sentence contribution using the fine-tuned bert model\n",
        "sentence_contributions = []\n",
        "\n",
        "for i in range(bert_test_inputs[0].shape[0]):\n",
        "  # contribution = calculate_sentence_contribution_attention(trained_bert_model, bert_test_inputs[0][i:i+1], bert_test_inputs[1][i:i+1], bert_test_inputs[2][i:i+1])\n",
        "  contribution = calculate_sentence_contribution_max(trained_bert_model, bert_test_inputs[0][i:i+1], bert_test_inputs[1][i:i+1], bert_test_inputs[2][i:i+1])\n",
        "  sentence_contributions.append(contribution)"
      ],
      "metadata": {
        "id": "MyW_zpKLO2DP"
      },
      "execution_count": null,
      "outputs": []
    },
    {
      "cell_type": "code",
      "source": [
        "# Append the sentence contributions to the dataframe\n",
        "X_test['pred_sentence_contributions'] = sentence_contributions\n",
        "X_test['pred_highlight_id'] = X_test['pred_sentence_contributions'].apply(lambda x: np.argmax(x))\n",
        "X_test.head()"
      ],
      "metadata": {
        "colab": {
          "base_uri": "https://localhost:8080/",
          "height": 206
        },
        "id": "HOM-yGQPe6d_",
        "outputId": "a52090e9-1d93-43f9-cdc2-56dddbb5c9d0"
      },
      "execution_count": null,
      "outputs": [
        {
          "output_type": "execute_result",
          "data": {
            "text/plain": [
              "                                                doc_text  \\\n",
              "15349  Sellers may also offer Custom Offers to Buyers...   \n",
              "24752  See more at httpconsumercal.orgcaliforniaonlin...   \n",
              "15597  At Anonyome Labs, Inc.\\nAnonyome, we, us, or o...   \n",
              "23630  Does our site allow thirdparty behavioral trac...   \n",
              "15123  We may freely transfer or assign this Agreemen...   \n",
              "\n",
              "                                               highlight  y_test  y_pred  \\\n",
              "15349                                                          0       0   \n",
              "24752                                                          0       1   \n",
              "15597                                                          0       0   \n",
              "23630                                                          0       1   \n",
              "15123  If any provision of this Agreement is held by ...       1       1   \n",
              "\n",
              "                pred_sentence_contributions  pred_highlight_id highlight_id  \\\n",
              "15349   [0.7437487, 0.72735083, 0.79266346]                  2           NA   \n",
              "24752   [0.41247588, 0.43132368, 0.5052986]                  2           NA   \n",
              "15597  [0.28069827, 0.32059965, 0.28082293]                  1           NA   \n",
              "23630  [0.38011762, 0.31859756, 0.32117262]                  0           NA   \n",
              "15123  [0.33169833, 0.32375777, 0.26130384]                  0            2   \n",
              "\n",
              "       highlight_id_check  \n",
              "15349               False  \n",
              "24752               False  \n",
              "15597               False  \n",
              "23630               False  \n",
              "15123                True  "
            ],
            "text/html": [
              "\n",
              "  <div id=\"df-df64a73c-8382-4638-ad2c-2f7fae4dcb35\" class=\"colab-df-container\">\n",
              "    <div>\n",
              "<style scoped>\n",
              "    .dataframe tbody tr th:only-of-type {\n",
              "        vertical-align: middle;\n",
              "    }\n",
              "\n",
              "    .dataframe tbody tr th {\n",
              "        vertical-align: top;\n",
              "    }\n",
              "\n",
              "    .dataframe thead th {\n",
              "        text-align: right;\n",
              "    }\n",
              "</style>\n",
              "<table border=\"1\" class=\"dataframe\">\n",
              "  <thead>\n",
              "    <tr style=\"text-align: right;\">\n",
              "      <th></th>\n",
              "      <th>doc_text</th>\n",
              "      <th>highlight</th>\n",
              "      <th>y_test</th>\n",
              "      <th>y_pred</th>\n",
              "      <th>pred_sentence_contributions</th>\n",
              "      <th>pred_highlight_id</th>\n",
              "      <th>highlight_id</th>\n",
              "      <th>highlight_id_check</th>\n",
              "    </tr>\n",
              "  </thead>\n",
              "  <tbody>\n",
              "    <tr>\n",
              "      <th>15349</th>\n",
              "      <td>Sellers may also offer Custom Offers to Buyers...</td>\n",
              "      <td></td>\n",
              "      <td>0</td>\n",
              "      <td>0</td>\n",
              "      <td>[0.7437487, 0.72735083, 0.79266346]</td>\n",
              "      <td>2</td>\n",
              "      <td>NA</td>\n",
              "      <td>False</td>\n",
              "    </tr>\n",
              "    <tr>\n",
              "      <th>24752</th>\n",
              "      <td>See more at httpconsumercal.orgcaliforniaonlin...</td>\n",
              "      <td></td>\n",
              "      <td>0</td>\n",
              "      <td>1</td>\n",
              "      <td>[0.41247588, 0.43132368, 0.5052986]</td>\n",
              "      <td>2</td>\n",
              "      <td>NA</td>\n",
              "      <td>False</td>\n",
              "    </tr>\n",
              "    <tr>\n",
              "      <th>15597</th>\n",
              "      <td>At Anonyome Labs, Inc.\\nAnonyome, we, us, or o...</td>\n",
              "      <td></td>\n",
              "      <td>0</td>\n",
              "      <td>0</td>\n",
              "      <td>[0.28069827, 0.32059965, 0.28082293]</td>\n",
              "      <td>1</td>\n",
              "      <td>NA</td>\n",
              "      <td>False</td>\n",
              "    </tr>\n",
              "    <tr>\n",
              "      <th>23630</th>\n",
              "      <td>Does our site allow thirdparty behavioral trac...</td>\n",
              "      <td></td>\n",
              "      <td>0</td>\n",
              "      <td>1</td>\n",
              "      <td>[0.38011762, 0.31859756, 0.32117262]</td>\n",
              "      <td>0</td>\n",
              "      <td>NA</td>\n",
              "      <td>False</td>\n",
              "    </tr>\n",
              "    <tr>\n",
              "      <th>15123</th>\n",
              "      <td>We may freely transfer or assign this Agreemen...</td>\n",
              "      <td>If any provision of this Agreement is held by ...</td>\n",
              "      <td>1</td>\n",
              "      <td>1</td>\n",
              "      <td>[0.33169833, 0.32375777, 0.26130384]</td>\n",
              "      <td>0</td>\n",
              "      <td>2</td>\n",
              "      <td>True</td>\n",
              "    </tr>\n",
              "  </tbody>\n",
              "</table>\n",
              "</div>\n",
              "    <div class=\"colab-df-buttons\">\n",
              "\n",
              "  <div class=\"colab-df-container\">\n",
              "    <button class=\"colab-df-convert\" onclick=\"convertToInteractive('df-df64a73c-8382-4638-ad2c-2f7fae4dcb35')\"\n",
              "            title=\"Convert this dataframe to an interactive table.\"\n",
              "            style=\"display:none;\">\n",
              "\n",
              "  <svg xmlns=\"http://www.w3.org/2000/svg\" height=\"24px\" viewBox=\"0 -960 960 960\">\n",
              "    <path d=\"M120-120v-720h720v720H120Zm60-500h600v-160H180v160Zm220 220h160v-160H400v160Zm0 220h160v-160H400v160ZM180-400h160v-160H180v160Zm440 0h160v-160H620v160ZM180-180h160v-160H180v160Zm440 0h160v-160H620v160Z\"/>\n",
              "  </svg>\n",
              "    </button>\n",
              "\n",
              "  <style>\n",
              "    .colab-df-container {\n",
              "      display:flex;\n",
              "      gap: 12px;\n",
              "    }\n",
              "\n",
              "    .colab-df-convert {\n",
              "      background-color: #E8F0FE;\n",
              "      border: none;\n",
              "      border-radius: 50%;\n",
              "      cursor: pointer;\n",
              "      display: none;\n",
              "      fill: #1967D2;\n",
              "      height: 32px;\n",
              "      padding: 0 0 0 0;\n",
              "      width: 32px;\n",
              "    }\n",
              "\n",
              "    .colab-df-convert:hover {\n",
              "      background-color: #E2EBFA;\n",
              "      box-shadow: 0px 1px 2px rgba(60, 64, 67, 0.3), 0px 1px 3px 1px rgba(60, 64, 67, 0.15);\n",
              "      fill: #174EA6;\n",
              "    }\n",
              "\n",
              "    .colab-df-buttons div {\n",
              "      margin-bottom: 4px;\n",
              "    }\n",
              "\n",
              "    [theme=dark] .colab-df-convert {\n",
              "      background-color: #3B4455;\n",
              "      fill: #D2E3FC;\n",
              "    }\n",
              "\n",
              "    [theme=dark] .colab-df-convert:hover {\n",
              "      background-color: #434B5C;\n",
              "      box-shadow: 0px 1px 3px 1px rgba(0, 0, 0, 0.15);\n",
              "      filter: drop-shadow(0px 1px 2px rgba(0, 0, 0, 0.3));\n",
              "      fill: #FFFFFF;\n",
              "    }\n",
              "  </style>\n",
              "\n",
              "    <script>\n",
              "      const buttonEl =\n",
              "        document.querySelector('#df-df64a73c-8382-4638-ad2c-2f7fae4dcb35 button.colab-df-convert');\n",
              "      buttonEl.style.display =\n",
              "        google.colab.kernel.accessAllowed ? 'block' : 'none';\n",
              "\n",
              "      async function convertToInteractive(key) {\n",
              "        const element = document.querySelector('#df-df64a73c-8382-4638-ad2c-2f7fae4dcb35');\n",
              "        const dataTable =\n",
              "          await google.colab.kernel.invokeFunction('convertToInteractive',\n",
              "                                                    [key], {});\n",
              "        if (!dataTable) return;\n",
              "\n",
              "        const docLinkHtml = 'Like what you see? Visit the ' +\n",
              "          '<a target=\"_blank\" href=https://colab.research.google.com/notebooks/data_table.ipynb>data table notebook</a>'\n",
              "          + ' to learn more about interactive tables.';\n",
              "        element.innerHTML = '';\n",
              "        dataTable['output_type'] = 'display_data';\n",
              "        await google.colab.output.renderOutput(dataTable, element);\n",
              "        const docLink = document.createElement('div');\n",
              "        docLink.innerHTML = docLinkHtml;\n",
              "        element.appendChild(docLink);\n",
              "      }\n",
              "    </script>\n",
              "  </div>\n",
              "\n",
              "\n",
              "<div id=\"df-13604cf9-78e0-401f-9804-59e1ae298a8d\">\n",
              "  <button class=\"colab-df-quickchart\" onclick=\"quickchart('df-13604cf9-78e0-401f-9804-59e1ae298a8d')\"\n",
              "            title=\"Suggest charts\"\n",
              "            style=\"display:none;\">\n",
              "\n",
              "<svg xmlns=\"http://www.w3.org/2000/svg\" height=\"24px\"viewBox=\"0 0 24 24\"\n",
              "     width=\"24px\">\n",
              "    <g>\n",
              "        <path d=\"M19 3H5c-1.1 0-2 .9-2 2v14c0 1.1.9 2 2 2h14c1.1 0 2-.9 2-2V5c0-1.1-.9-2-2-2zM9 17H7v-7h2v7zm4 0h-2V7h2v10zm4 0h-2v-4h2v4z\"/>\n",
              "    </g>\n",
              "</svg>\n",
              "  </button>\n",
              "\n",
              "<style>\n",
              "  .colab-df-quickchart {\n",
              "      --bg-color: #E8F0FE;\n",
              "      --fill-color: #1967D2;\n",
              "      --hover-bg-color: #E2EBFA;\n",
              "      --hover-fill-color: #174EA6;\n",
              "      --disabled-fill-color: #AAA;\n",
              "      --disabled-bg-color: #DDD;\n",
              "  }\n",
              "\n",
              "  [theme=dark] .colab-df-quickchart {\n",
              "      --bg-color: #3B4455;\n",
              "      --fill-color: #D2E3FC;\n",
              "      --hover-bg-color: #434B5C;\n",
              "      --hover-fill-color: #FFFFFF;\n",
              "      --disabled-bg-color: #3B4455;\n",
              "      --disabled-fill-color: #666;\n",
              "  }\n",
              "\n",
              "  .colab-df-quickchart {\n",
              "    background-color: var(--bg-color);\n",
              "    border: none;\n",
              "    border-radius: 50%;\n",
              "    cursor: pointer;\n",
              "    display: none;\n",
              "    fill: var(--fill-color);\n",
              "    height: 32px;\n",
              "    padding: 0;\n",
              "    width: 32px;\n",
              "  }\n",
              "\n",
              "  .colab-df-quickchart:hover {\n",
              "    background-color: var(--hover-bg-color);\n",
              "    box-shadow: 0 1px 2px rgba(60, 64, 67, 0.3), 0 1px 3px 1px rgba(60, 64, 67, 0.15);\n",
              "    fill: var(--button-hover-fill-color);\n",
              "  }\n",
              "\n",
              "  .colab-df-quickchart-complete:disabled,\n",
              "  .colab-df-quickchart-complete:disabled:hover {\n",
              "    background-color: var(--disabled-bg-color);\n",
              "    fill: var(--disabled-fill-color);\n",
              "    box-shadow: none;\n",
              "  }\n",
              "\n",
              "  .colab-df-spinner {\n",
              "    border: 2px solid var(--fill-color);\n",
              "    border-color: transparent;\n",
              "    border-bottom-color: var(--fill-color);\n",
              "    animation:\n",
              "      spin 1s steps(1) infinite;\n",
              "  }\n",
              "\n",
              "  @keyframes spin {\n",
              "    0% {\n",
              "      border-color: transparent;\n",
              "      border-bottom-color: var(--fill-color);\n",
              "      border-left-color: var(--fill-color);\n",
              "    }\n",
              "    20% {\n",
              "      border-color: transparent;\n",
              "      border-left-color: var(--fill-color);\n",
              "      border-top-color: var(--fill-color);\n",
              "    }\n",
              "    30% {\n",
              "      border-color: transparent;\n",
              "      border-left-color: var(--fill-color);\n",
              "      border-top-color: var(--fill-color);\n",
              "      border-right-color: var(--fill-color);\n",
              "    }\n",
              "    40% {\n",
              "      border-color: transparent;\n",
              "      border-right-color: var(--fill-color);\n",
              "      border-top-color: var(--fill-color);\n",
              "    }\n",
              "    60% {\n",
              "      border-color: transparent;\n",
              "      border-right-color: var(--fill-color);\n",
              "    }\n",
              "    80% {\n",
              "      border-color: transparent;\n",
              "      border-right-color: var(--fill-color);\n",
              "      border-bottom-color: var(--fill-color);\n",
              "    }\n",
              "    90% {\n",
              "      border-color: transparent;\n",
              "      border-bottom-color: var(--fill-color);\n",
              "    }\n",
              "  }\n",
              "</style>\n",
              "\n",
              "  <script>\n",
              "    async function quickchart(key) {\n",
              "      const quickchartButtonEl =\n",
              "        document.querySelector('#' + key + ' button');\n",
              "      quickchartButtonEl.disabled = true;  // To prevent multiple clicks.\n",
              "      quickchartButtonEl.classList.add('colab-df-spinner');\n",
              "      try {\n",
              "        const charts = await google.colab.kernel.invokeFunction(\n",
              "            'suggestCharts', [key], {});\n",
              "      } catch (error) {\n",
              "        console.error('Error during call to suggestCharts:', error);\n",
              "      }\n",
              "      quickchartButtonEl.classList.remove('colab-df-spinner');\n",
              "      quickchartButtonEl.classList.add('colab-df-quickchart-complete');\n",
              "    }\n",
              "    (() => {\n",
              "      let quickchartButtonEl =\n",
              "        document.querySelector('#df-13604cf9-78e0-401f-9804-59e1ae298a8d button');\n",
              "      quickchartButtonEl.style.display =\n",
              "        google.colab.kernel.accessAllowed ? 'block' : 'none';\n",
              "    })();\n",
              "  </script>\n",
              "</div>\n",
              "\n",
              "    </div>\n",
              "  </div>\n"
            ],
            "application/vnd.google.colaboratory.intrinsic+json": {
              "type": "dataframe",
              "variable_name": "X_test",
              "summary": "{\n  \"name\": \"X_test\",\n  \"rows\": 2370,\n  \"fields\": [\n    {\n      \"column\": \"doc_text\",\n      \"properties\": {\n        \"dtype\": \"string\",\n        \"num_unique_values\": 2284,\n        \"samples\": [\n          \"Microsoft reserves the right to charge you for such Services at the normal rate if Microsoft determines in its reasonable discretion that you are breaching the terms and conditions of the offer. We may change the price of the Services at any time and if you have a recurring purchase, we will notify you by email, or other reasonable manner, at least 15 days before the price change. If you do not agree to the price change, you must cancel and stop using the Services before the price change takes effect.\",\n          \"We are not responsible for any lost, stolen, or compromised passwords or for any activity on your account via unauthorized password activity. We retain the personal data we collect for so long as is reasonably necessary to fulfill the purposes for which the data was collected, to perform our contractual and legal obligations, and for any applicable statute of limitations periods for the purposes of bringing and defending claims. ThirdParty Links\\n\\n\\n\\nOur Website may contain links to thirdparty websites and applications.\",\n          \"You are solely responsible for the activity that occurs on your account, and you must keep your account password secure. We encourage you to use strong passwords passwords that use a combination of upper and lower case letters, numbers and symbols with your account. You must notify wikiHow immediately of any breach of security or unauthorized use of your account.\"\n        ],\n        \"semantic_type\": \"\",\n        \"description\": \"\"\n      }\n    },\n    {\n      \"column\": \"highlight\",\n      \"properties\": {\n        \"dtype\": \"category\",\n        \"num_unique_values\": 1107,\n        \"samples\": [\n          \"however, there are no refunds for cancellation.\",\n          \"You can stop all collection of information by the Applications by uninstalling the Applications.\",\n          \"We do not knowingly collect personal information from children under 13.\"\n        ],\n        \"semantic_type\": \"\",\n        \"description\": \"\"\n      }\n    },\n    {\n      \"column\": \"y_test\",\n      \"properties\": {\n        \"dtype\": \"number\",\n        \"std\": 0,\n        \"min\": 0,\n        \"max\": 1,\n        \"num_unique_values\": 2,\n        \"samples\": [\n          1,\n          0\n        ],\n        \"semantic_type\": \"\",\n        \"description\": \"\"\n      }\n    },\n    {\n      \"column\": \"y_pred\",\n      \"properties\": {\n        \"dtype\": \"number\",\n        \"std\": 0,\n        \"min\": 0,\n        \"max\": 1,\n        \"num_unique_values\": 2,\n        \"samples\": [\n          1,\n          0\n        ],\n        \"semantic_type\": \"\",\n        \"description\": \"\"\n      }\n    },\n    {\n      \"column\": \"pred_sentence_contributions\",\n      \"properties\": {\n        \"dtype\": \"object\",\n        \"semantic_type\": \"\",\n        \"description\": \"\"\n      }\n    },\n    {\n      \"column\": \"pred_highlight_id\",\n      \"properties\": {\n        \"dtype\": \"number\",\n        \"std\": 0,\n        \"min\": 0,\n        \"max\": 3,\n        \"num_unique_values\": 4,\n        \"samples\": [\n          1,\n          3\n        ],\n        \"semantic_type\": \"\",\n        \"description\": \"\"\n      }\n    },\n    {\n      \"column\": \"highlight_id\",\n      \"properties\": {\n        \"dtype\": \"category\",\n        \"num_unique_values\": 5,\n        \"samples\": [\n          2,\n          3\n        ],\n        \"semantic_type\": \"\",\n        \"description\": \"\"\n      }\n    },\n    {\n      \"column\": \"highlight_id_check\",\n      \"properties\": {\n        \"dtype\": \"boolean\",\n        \"num_unique_values\": 2,\n        \"samples\": [\n          true,\n          false\n        ],\n        \"semantic_type\": \"\",\n        \"description\": \"\"\n      }\n    }\n  ]\n}"
            }
          },
          "metadata": {},
          "execution_count": 77
        }
      ]
    },
    {
      "cell_type": "code",
      "source": [
        "# Remove pred_highlight_id for any row that was not predicted as class 1\n",
        "# X_test['pred_highlight_id'] = X_test.apply(lambda x: 'NA' if x['y_pred'] == 0 else x['pred_highlight_id'], axis = 1)"
      ],
      "metadata": {
        "id": "1atporJd-W9b"
      },
      "execution_count": null,
      "outputs": []
    },
    {
      "cell_type": "code",
      "source": [
        "# Write output to file\n",
        "filepath = '/content/drive/MyDrive/266 Final Project/Prediction Data/bert_chunk_predictions_20241124.csv'\n",
        "X_test.to_csv(filepath, index = False)"
      ],
      "metadata": {
        "id": "Q9ruCo_Hwd3O"
      },
      "execution_count": null,
      "outputs": []
    },
    {
      "cell_type": "markdown",
      "source": [
        "Evaluate sentence contribution performance"
      ],
      "metadata": {
        "id": "5q6f3K-WDzb_"
      }
    },
    {
      "cell_type": "code",
      "source": [
        "highlight_ids = []\n",
        "found = 0\n",
        "\n",
        "for index, row in X_test.iterrows():\n",
        "  if row['y_test'] == 1:\n",
        "    text = sent_tokenize(row['doc_text'])\n",
        "    id = 0\n",
        "    for i in text:\n",
        "      if re.search(row['highlight'],i):\n",
        "        found += 1\n",
        "        break\n",
        "      else:\n",
        "        id += 1\n",
        "    highlight_ids.append(id)\n",
        "  else:\n",
        "    highlight_ids.append('NA')\n",
        "\n",
        "X_test['highlight_id'] = highlight_ids"
      ],
      "metadata": {
        "id": "6FgdeiVdRRws"
      },
      "execution_count": null,
      "outputs": []
    },
    {
      "cell_type": "code",
      "source": [
        "len(X_test)"
      ],
      "metadata": {
        "colab": {
          "base_uri": "https://localhost:8080/"
        },
        "id": "T13wFxVZhjRR",
        "outputId": "c2ec42ae-9b5d-4792-af27-ea8eaef151b3"
      },
      "execution_count": null,
      "outputs": [
        {
          "output_type": "execute_result",
          "data": {
            "text/plain": [
              "2370"
            ]
          },
          "metadata": {},
          "execution_count": 84
        }
      ]
    },
    {
      "cell_type": "code",
      "source": [
        "X_test['highlight_id_check'] = X_test.apply(lambda x: x['highlight_id'] == x['pred_highlight_id'], axis = 1)"
      ],
      "metadata": {
        "id": "oS6a66dgCSAi"
      },
      "execution_count": null,
      "outputs": []
    },
    {
      "cell_type": "code",
      "source": [
        "X_test[(X_test['y_test'] == 1) & (X_test['y_pred'] == 1)]['highlight_id_check'].value_counts()"
      ],
      "metadata": {
        "colab": {
          "base_uri": "https://localhost:8080/",
          "height": 178
        },
        "id": "a4gj_YaaDec-",
        "outputId": "d7e00b92-f85e-453f-a51d-8d537a6995be"
      },
      "execution_count": null,
      "outputs": [
        {
          "output_type": "execute_result",
          "data": {
            "text/plain": [
              "highlight_id_check\n",
              "False    648\n",
              "True     333\n",
              "Name: count, dtype: int64"
            ],
            "text/html": [
              "<div>\n",
              "<style scoped>\n",
              "    .dataframe tbody tr th:only-of-type {\n",
              "        vertical-align: middle;\n",
              "    }\n",
              "\n",
              "    .dataframe tbody tr th {\n",
              "        vertical-align: top;\n",
              "    }\n",
              "\n",
              "    .dataframe thead th {\n",
              "        text-align: right;\n",
              "    }\n",
              "</style>\n",
              "<table border=\"1\" class=\"dataframe\">\n",
              "  <thead>\n",
              "    <tr style=\"text-align: right;\">\n",
              "      <th></th>\n",
              "      <th>count</th>\n",
              "    </tr>\n",
              "    <tr>\n",
              "      <th>highlight_id_check</th>\n",
              "      <th></th>\n",
              "    </tr>\n",
              "  </thead>\n",
              "  <tbody>\n",
              "    <tr>\n",
              "      <th>False</th>\n",
              "      <td>648</td>\n",
              "    </tr>\n",
              "    <tr>\n",
              "      <th>True</th>\n",
              "      <td>333</td>\n",
              "    </tr>\n",
              "  </tbody>\n",
              "</table>\n",
              "</div><br><label><b>dtype:</b> int64</label>"
            ]
          },
          "metadata": {},
          "execution_count": 112
        }
      ]
    },
    {
      "cell_type": "code",
      "source": [
        "X_test[(X_test['y_test'] == 1) & (X_test['y_pred'] == 1)]"
      ],
      "metadata": {
        "id": "gDIVn3JEgqWg",
        "colab": {
          "base_uri": "https://localhost:8080/",
          "height": 424
        },
        "outputId": "edbd4055-a189-400f-b1f2-e3625bb2611a"
      },
      "execution_count": null,
      "outputs": [
        {
          "output_type": "execute_result",
          "data": {
            "text/plain": [
              "                                                doc_text  \\\n",
              "15123  We may freely transfer or assign this Agreemen...   \n",
              "24971  They may be used by those companies to build a...   \n",
              "25331  Nous vous invitons  lire la politique de confi...   \n",
              "17297  protection of our legitimate interests and rig...   \n",
              "3147   We use cookies, pixels, local storage, and sim...   \n",
              "...                                                  ...   \n",
              "19045  You will be responsible for preserving the con...   \n",
              "22354  Some of these providers allow you to opt out o...   \n",
              "5657   You are responsible for your own actions You a...   \n",
              "2629   Because we do not control User Content,\\nyou a...   \n",
              "3869   Do Not Track California law requires us to let...   \n",
              "\n",
              "                                               highlight  y_test  y_pred  \\\n",
              "15123  If any provision of this Agreement is held by ...       1       1   \n",
              "24971  They may be used by those companies to build a...       1       1   \n",
              "25331  Cookies des Rseaux Sociaux et Vidos \\n\\nCes co...       1       1   \n",
              "17297  This right applies exclusively to personal dat...       1       1   \n",
              "3147   We use cookies, pixels, local storage, and sim...       1       1   \n",
              "...                                                  ...     ...     ...   \n",
              "19045  You will be responsible for preserving the con...       1       1   \n",
              "22354  Do Not Track Disclosure FamilyTreeDNA notes th...       1       1   \n",
              "5657   You are responsible for your own actions You a...       1       1   \n",
              "2629   You agree that Company will not be responsible...       1       1   \n",
              "3869   Because there currently isnt an industry or le...       1       1   \n",
              "\n",
              "                pred_sentence_contributions  pred_highlight_id highlight_id  \\\n",
              "15123  [0.33169833, 0.32375777, 0.26130384]                  0            2   \n",
              "24971  [0.34867042, 0.37558123, 0.34698248]                  1            0   \n",
              "25331  [0.28301448, 0.29759884, 0.31927997]                  2            2   \n",
              "17297  [0.41333544, 0.32074556, 0.39448887]                  0            2   \n",
              "3147      [0.30203, 0.34225902, 0.34603488]                  2            0   \n",
              "...                                     ...                ...          ...   \n",
              "19045      [0.4263188, 0.418595, 0.4136476]                  0            0   \n",
              "22354  [0.34967083, 0.35321158, 0.43125176]                  2            1   \n",
              "5657    [0.30790967, 0.5327423, 0.39025262]                  1            0   \n",
              "2629   [0.35398307, 0.43872344, 0.37714162]                  1            1   \n",
              "3869    [0.87464595, 0.86557615, 0.8832388]                  2            1   \n",
              "\n",
              "       highlight_id_check  \n",
              "15123               False  \n",
              "24971               False  \n",
              "25331                True  \n",
              "17297               False  \n",
              "3147                False  \n",
              "...                   ...  \n",
              "19045                True  \n",
              "22354               False  \n",
              "5657                False  \n",
              "2629                 True  \n",
              "3869                False  \n",
              "\n",
              "[981 rows x 8 columns]"
            ],
            "text/html": [
              "\n",
              "  <div id=\"df-d11406eb-cfe9-4a8f-8dd2-4c462738bb90\" class=\"colab-df-container\">\n",
              "    <div>\n",
              "<style scoped>\n",
              "    .dataframe tbody tr th:only-of-type {\n",
              "        vertical-align: middle;\n",
              "    }\n",
              "\n",
              "    .dataframe tbody tr th {\n",
              "        vertical-align: top;\n",
              "    }\n",
              "\n",
              "    .dataframe thead th {\n",
              "        text-align: right;\n",
              "    }\n",
              "</style>\n",
              "<table border=\"1\" class=\"dataframe\">\n",
              "  <thead>\n",
              "    <tr style=\"text-align: right;\">\n",
              "      <th></th>\n",
              "      <th>doc_text</th>\n",
              "      <th>highlight</th>\n",
              "      <th>y_test</th>\n",
              "      <th>y_pred</th>\n",
              "      <th>pred_sentence_contributions</th>\n",
              "      <th>pred_highlight_id</th>\n",
              "      <th>highlight_id</th>\n",
              "      <th>highlight_id_check</th>\n",
              "    </tr>\n",
              "  </thead>\n",
              "  <tbody>\n",
              "    <tr>\n",
              "      <th>15123</th>\n",
              "      <td>We may freely transfer or assign this Agreemen...</td>\n",
              "      <td>If any provision of this Agreement is held by ...</td>\n",
              "      <td>1</td>\n",
              "      <td>1</td>\n",
              "      <td>[0.33169833, 0.32375777, 0.26130384]</td>\n",
              "      <td>0</td>\n",
              "      <td>2</td>\n",
              "      <td>False</td>\n",
              "    </tr>\n",
              "    <tr>\n",
              "      <th>24971</th>\n",
              "      <td>They may be used by those companies to build a...</td>\n",
              "      <td>They may be used by those companies to build a...</td>\n",
              "      <td>1</td>\n",
              "      <td>1</td>\n",
              "      <td>[0.34867042, 0.37558123, 0.34698248]</td>\n",
              "      <td>1</td>\n",
              "      <td>0</td>\n",
              "      <td>False</td>\n",
              "    </tr>\n",
              "    <tr>\n",
              "      <th>25331</th>\n",
              "      <td>Nous vous invitons  lire la politique de confi...</td>\n",
              "      <td>Cookies des Rseaux Sociaux et Vidos \\n\\nCes co...</td>\n",
              "      <td>1</td>\n",
              "      <td>1</td>\n",
              "      <td>[0.28301448, 0.29759884, 0.31927997]</td>\n",
              "      <td>2</td>\n",
              "      <td>2</td>\n",
              "      <td>True</td>\n",
              "    </tr>\n",
              "    <tr>\n",
              "      <th>17297</th>\n",
              "      <td>protection of our legitimate interests and rig...</td>\n",
              "      <td>This right applies exclusively to personal dat...</td>\n",
              "      <td>1</td>\n",
              "      <td>1</td>\n",
              "      <td>[0.41333544, 0.32074556, 0.39448887]</td>\n",
              "      <td>0</td>\n",
              "      <td>2</td>\n",
              "      <td>False</td>\n",
              "    </tr>\n",
              "    <tr>\n",
              "      <th>3147</th>\n",
              "      <td>We use cookies, pixels, local storage, and sim...</td>\n",
              "      <td>We use cookies, pixels, local storage, and sim...</td>\n",
              "      <td>1</td>\n",
              "      <td>1</td>\n",
              "      <td>[0.30203, 0.34225902, 0.34603488]</td>\n",
              "      <td>2</td>\n",
              "      <td>0</td>\n",
              "      <td>False</td>\n",
              "    </tr>\n",
              "    <tr>\n",
              "      <th>...</th>\n",
              "      <td>...</td>\n",
              "      <td>...</td>\n",
              "      <td>...</td>\n",
              "      <td>...</td>\n",
              "      <td>...</td>\n",
              "      <td>...</td>\n",
              "      <td>...</td>\n",
              "      <td>...</td>\n",
              "    </tr>\n",
              "    <tr>\n",
              "      <th>19045</th>\n",
              "      <td>You will be responsible for preserving the con...</td>\n",
              "      <td>You will be responsible for preserving the con...</td>\n",
              "      <td>1</td>\n",
              "      <td>1</td>\n",
              "      <td>[0.4263188, 0.418595, 0.4136476]</td>\n",
              "      <td>0</td>\n",
              "      <td>0</td>\n",
              "      <td>True</td>\n",
              "    </tr>\n",
              "    <tr>\n",
              "      <th>22354</th>\n",
              "      <td>Some of these providers allow you to opt out o...</td>\n",
              "      <td>Do Not Track Disclosure FamilyTreeDNA notes th...</td>\n",
              "      <td>1</td>\n",
              "      <td>1</td>\n",
              "      <td>[0.34967083, 0.35321158, 0.43125176]</td>\n",
              "      <td>2</td>\n",
              "      <td>1</td>\n",
              "      <td>False</td>\n",
              "    </tr>\n",
              "    <tr>\n",
              "      <th>5657</th>\n",
              "      <td>You are responsible for your own actions You a...</td>\n",
              "      <td>You are responsible for your own actions You a...</td>\n",
              "      <td>1</td>\n",
              "      <td>1</td>\n",
              "      <td>[0.30790967, 0.5327423, 0.39025262]</td>\n",
              "      <td>1</td>\n",
              "      <td>0</td>\n",
              "      <td>False</td>\n",
              "    </tr>\n",
              "    <tr>\n",
              "      <th>2629</th>\n",
              "      <td>Because we do not control User Content,\\nyou a...</td>\n",
              "      <td>You agree that Company will not be responsible...</td>\n",
              "      <td>1</td>\n",
              "      <td>1</td>\n",
              "      <td>[0.35398307, 0.43872344, 0.37714162]</td>\n",
              "      <td>1</td>\n",
              "      <td>1</td>\n",
              "      <td>True</td>\n",
              "    </tr>\n",
              "    <tr>\n",
              "      <th>3869</th>\n",
              "      <td>Do Not Track California law requires us to let...</td>\n",
              "      <td>Because there currently isnt an industry or le...</td>\n",
              "      <td>1</td>\n",
              "      <td>1</td>\n",
              "      <td>[0.87464595, 0.86557615, 0.8832388]</td>\n",
              "      <td>2</td>\n",
              "      <td>1</td>\n",
              "      <td>False</td>\n",
              "    </tr>\n",
              "  </tbody>\n",
              "</table>\n",
              "<p>981 rows × 8 columns</p>\n",
              "</div>\n",
              "    <div class=\"colab-df-buttons\">\n",
              "\n",
              "  <div class=\"colab-df-container\">\n",
              "    <button class=\"colab-df-convert\" onclick=\"convertToInteractive('df-d11406eb-cfe9-4a8f-8dd2-4c462738bb90')\"\n",
              "            title=\"Convert this dataframe to an interactive table.\"\n",
              "            style=\"display:none;\">\n",
              "\n",
              "  <svg xmlns=\"http://www.w3.org/2000/svg\" height=\"24px\" viewBox=\"0 -960 960 960\">\n",
              "    <path d=\"M120-120v-720h720v720H120Zm60-500h600v-160H180v160Zm220 220h160v-160H400v160Zm0 220h160v-160H400v160ZM180-400h160v-160H180v160Zm440 0h160v-160H620v160ZM180-180h160v-160H180v160Zm440 0h160v-160H620v160Z\"/>\n",
              "  </svg>\n",
              "    </button>\n",
              "\n",
              "  <style>\n",
              "    .colab-df-container {\n",
              "      display:flex;\n",
              "      gap: 12px;\n",
              "    }\n",
              "\n",
              "    .colab-df-convert {\n",
              "      background-color: #E8F0FE;\n",
              "      border: none;\n",
              "      border-radius: 50%;\n",
              "      cursor: pointer;\n",
              "      display: none;\n",
              "      fill: #1967D2;\n",
              "      height: 32px;\n",
              "      padding: 0 0 0 0;\n",
              "      width: 32px;\n",
              "    }\n",
              "\n",
              "    .colab-df-convert:hover {\n",
              "      background-color: #E2EBFA;\n",
              "      box-shadow: 0px 1px 2px rgba(60, 64, 67, 0.3), 0px 1px 3px 1px rgba(60, 64, 67, 0.15);\n",
              "      fill: #174EA6;\n",
              "    }\n",
              "\n",
              "    .colab-df-buttons div {\n",
              "      margin-bottom: 4px;\n",
              "    }\n",
              "\n",
              "    [theme=dark] .colab-df-convert {\n",
              "      background-color: #3B4455;\n",
              "      fill: #D2E3FC;\n",
              "    }\n",
              "\n",
              "    [theme=dark] .colab-df-convert:hover {\n",
              "      background-color: #434B5C;\n",
              "      box-shadow: 0px 1px 3px 1px rgba(0, 0, 0, 0.15);\n",
              "      filter: drop-shadow(0px 1px 2px rgba(0, 0, 0, 0.3));\n",
              "      fill: #FFFFFF;\n",
              "    }\n",
              "  </style>\n",
              "\n",
              "    <script>\n",
              "      const buttonEl =\n",
              "        document.querySelector('#df-d11406eb-cfe9-4a8f-8dd2-4c462738bb90 button.colab-df-convert');\n",
              "      buttonEl.style.display =\n",
              "        google.colab.kernel.accessAllowed ? 'block' : 'none';\n",
              "\n",
              "      async function convertToInteractive(key) {\n",
              "        const element = document.querySelector('#df-d11406eb-cfe9-4a8f-8dd2-4c462738bb90');\n",
              "        const dataTable =\n",
              "          await google.colab.kernel.invokeFunction('convertToInteractive',\n",
              "                                                    [key], {});\n",
              "        if (!dataTable) return;\n",
              "\n",
              "        const docLinkHtml = 'Like what you see? Visit the ' +\n",
              "          '<a target=\"_blank\" href=https://colab.research.google.com/notebooks/data_table.ipynb>data table notebook</a>'\n",
              "          + ' to learn more about interactive tables.';\n",
              "        element.innerHTML = '';\n",
              "        dataTable['output_type'] = 'display_data';\n",
              "        await google.colab.output.renderOutput(dataTable, element);\n",
              "        const docLink = document.createElement('div');\n",
              "        docLink.innerHTML = docLinkHtml;\n",
              "        element.appendChild(docLink);\n",
              "      }\n",
              "    </script>\n",
              "  </div>\n",
              "\n",
              "\n",
              "<div id=\"df-c6595ef0-5974-44f3-b8ee-593ce15b044d\">\n",
              "  <button class=\"colab-df-quickchart\" onclick=\"quickchart('df-c6595ef0-5974-44f3-b8ee-593ce15b044d')\"\n",
              "            title=\"Suggest charts\"\n",
              "            style=\"display:none;\">\n",
              "\n",
              "<svg xmlns=\"http://www.w3.org/2000/svg\" height=\"24px\"viewBox=\"0 0 24 24\"\n",
              "     width=\"24px\">\n",
              "    <g>\n",
              "        <path d=\"M19 3H5c-1.1 0-2 .9-2 2v14c0 1.1.9 2 2 2h14c1.1 0 2-.9 2-2V5c0-1.1-.9-2-2-2zM9 17H7v-7h2v7zm4 0h-2V7h2v10zm4 0h-2v-4h2v4z\"/>\n",
              "    </g>\n",
              "</svg>\n",
              "  </button>\n",
              "\n",
              "<style>\n",
              "  .colab-df-quickchart {\n",
              "      --bg-color: #E8F0FE;\n",
              "      --fill-color: #1967D2;\n",
              "      --hover-bg-color: #E2EBFA;\n",
              "      --hover-fill-color: #174EA6;\n",
              "      --disabled-fill-color: #AAA;\n",
              "      --disabled-bg-color: #DDD;\n",
              "  }\n",
              "\n",
              "  [theme=dark] .colab-df-quickchart {\n",
              "      --bg-color: #3B4455;\n",
              "      --fill-color: #D2E3FC;\n",
              "      --hover-bg-color: #434B5C;\n",
              "      --hover-fill-color: #FFFFFF;\n",
              "      --disabled-bg-color: #3B4455;\n",
              "      --disabled-fill-color: #666;\n",
              "  }\n",
              "\n",
              "  .colab-df-quickchart {\n",
              "    background-color: var(--bg-color);\n",
              "    border: none;\n",
              "    border-radius: 50%;\n",
              "    cursor: pointer;\n",
              "    display: none;\n",
              "    fill: var(--fill-color);\n",
              "    height: 32px;\n",
              "    padding: 0;\n",
              "    width: 32px;\n",
              "  }\n",
              "\n",
              "  .colab-df-quickchart:hover {\n",
              "    background-color: var(--hover-bg-color);\n",
              "    box-shadow: 0 1px 2px rgba(60, 64, 67, 0.3), 0 1px 3px 1px rgba(60, 64, 67, 0.15);\n",
              "    fill: var(--button-hover-fill-color);\n",
              "  }\n",
              "\n",
              "  .colab-df-quickchart-complete:disabled,\n",
              "  .colab-df-quickchart-complete:disabled:hover {\n",
              "    background-color: var(--disabled-bg-color);\n",
              "    fill: var(--disabled-fill-color);\n",
              "    box-shadow: none;\n",
              "  }\n",
              "\n",
              "  .colab-df-spinner {\n",
              "    border: 2px solid var(--fill-color);\n",
              "    border-color: transparent;\n",
              "    border-bottom-color: var(--fill-color);\n",
              "    animation:\n",
              "      spin 1s steps(1) infinite;\n",
              "  }\n",
              "\n",
              "  @keyframes spin {\n",
              "    0% {\n",
              "      border-color: transparent;\n",
              "      border-bottom-color: var(--fill-color);\n",
              "      border-left-color: var(--fill-color);\n",
              "    }\n",
              "    20% {\n",
              "      border-color: transparent;\n",
              "      border-left-color: var(--fill-color);\n",
              "      border-top-color: var(--fill-color);\n",
              "    }\n",
              "    30% {\n",
              "      border-color: transparent;\n",
              "      border-left-color: var(--fill-color);\n",
              "      border-top-color: var(--fill-color);\n",
              "      border-right-color: var(--fill-color);\n",
              "    }\n",
              "    40% {\n",
              "      border-color: transparent;\n",
              "      border-right-color: var(--fill-color);\n",
              "      border-top-color: var(--fill-color);\n",
              "    }\n",
              "    60% {\n",
              "      border-color: transparent;\n",
              "      border-right-color: var(--fill-color);\n",
              "    }\n",
              "    80% {\n",
              "      border-color: transparent;\n",
              "      border-right-color: var(--fill-color);\n",
              "      border-bottom-color: var(--fill-color);\n",
              "    }\n",
              "    90% {\n",
              "      border-color: transparent;\n",
              "      border-bottom-color: var(--fill-color);\n",
              "    }\n",
              "  }\n",
              "</style>\n",
              "\n",
              "  <script>\n",
              "    async function quickchart(key) {\n",
              "      const quickchartButtonEl =\n",
              "        document.querySelector('#' + key + ' button');\n",
              "      quickchartButtonEl.disabled = true;  // To prevent multiple clicks.\n",
              "      quickchartButtonEl.classList.add('colab-df-spinner');\n",
              "      try {\n",
              "        const charts = await google.colab.kernel.invokeFunction(\n",
              "            'suggestCharts', [key], {});\n",
              "      } catch (error) {\n",
              "        console.error('Error during call to suggestCharts:', error);\n",
              "      }\n",
              "      quickchartButtonEl.classList.remove('colab-df-spinner');\n",
              "      quickchartButtonEl.classList.add('colab-df-quickchart-complete');\n",
              "    }\n",
              "    (() => {\n",
              "      let quickchartButtonEl =\n",
              "        document.querySelector('#df-c6595ef0-5974-44f3-b8ee-593ce15b044d button');\n",
              "      quickchartButtonEl.style.display =\n",
              "        google.colab.kernel.accessAllowed ? 'block' : 'none';\n",
              "    })();\n",
              "  </script>\n",
              "</div>\n",
              "\n",
              "    </div>\n",
              "  </div>\n"
            ],
            "application/vnd.google.colaboratory.intrinsic+json": {
              "type": "dataframe",
              "repr_error": "0"
            }
          },
          "metadata": {},
          "execution_count": 113
        }
      ]
    },
    {
      "cell_type": "code",
      "source": [
        "X_test['highlight_id'].value_counts()"
      ],
      "metadata": {
        "id": "tUNxSM4qNu-D",
        "colab": {
          "base_uri": "https://localhost:8080/",
          "height": 272
        },
        "outputId": "e2c2eae9-9698-4dcd-ff7f-5df6cf24c61d"
      },
      "execution_count": null,
      "outputs": [
        {
          "output_type": "execute_result",
          "data": {
            "text/plain": [
              "highlight_id\n",
              "NA    1160\n",
              "2      416\n",
              "1      394\n",
              "0      382\n",
              "3       18\n",
              "Name: count, dtype: int64"
            ],
            "text/html": [
              "<div>\n",
              "<style scoped>\n",
              "    .dataframe tbody tr th:only-of-type {\n",
              "        vertical-align: middle;\n",
              "    }\n",
              "\n",
              "    .dataframe tbody tr th {\n",
              "        vertical-align: top;\n",
              "    }\n",
              "\n",
              "    .dataframe thead th {\n",
              "        text-align: right;\n",
              "    }\n",
              "</style>\n",
              "<table border=\"1\" class=\"dataframe\">\n",
              "  <thead>\n",
              "    <tr style=\"text-align: right;\">\n",
              "      <th></th>\n",
              "      <th>count</th>\n",
              "    </tr>\n",
              "    <tr>\n",
              "      <th>highlight_id</th>\n",
              "      <th></th>\n",
              "    </tr>\n",
              "  </thead>\n",
              "  <tbody>\n",
              "    <tr>\n",
              "      <th>NA</th>\n",
              "      <td>1160</td>\n",
              "    </tr>\n",
              "    <tr>\n",
              "      <th>2</th>\n",
              "      <td>416</td>\n",
              "    </tr>\n",
              "    <tr>\n",
              "      <th>1</th>\n",
              "      <td>394</td>\n",
              "    </tr>\n",
              "    <tr>\n",
              "      <th>0</th>\n",
              "      <td>382</td>\n",
              "    </tr>\n",
              "    <tr>\n",
              "      <th>3</th>\n",
              "      <td>18</td>\n",
              "    </tr>\n",
              "  </tbody>\n",
              "</table>\n",
              "</div><br><label><b>dtype:</b> int64</label>"
            ]
          },
          "metadata": {},
          "execution_count": 119
        }
      ]
    },
    {
      "cell_type": "code",
      "source": [
        "X_test[(X_test['y_test'] == 1) & (X_test['y_pred'] == 1)]['pred_highlight_id'].value_counts()"
      ],
      "metadata": {
        "colab": {
          "base_uri": "https://localhost:8080/",
          "height": 210
        },
        "id": "prceoInzhN-I",
        "outputId": "34ec0043-598f-4a1c-acf8-5e749627fbbd"
      },
      "execution_count": null,
      "outputs": [
        {
          "output_type": "execute_result",
          "data": {
            "text/plain": [
              "pred_highlight_id\n",
              "1    358\n",
              "2    325\n",
              "0    298\n",
              "Name: count, dtype: int64"
            ],
            "text/html": [
              "<div>\n",
              "<style scoped>\n",
              "    .dataframe tbody tr th:only-of-type {\n",
              "        vertical-align: middle;\n",
              "    }\n",
              "\n",
              "    .dataframe tbody tr th {\n",
              "        vertical-align: top;\n",
              "    }\n",
              "\n",
              "    .dataframe thead th {\n",
              "        text-align: right;\n",
              "    }\n",
              "</style>\n",
              "<table border=\"1\" class=\"dataframe\">\n",
              "  <thead>\n",
              "    <tr style=\"text-align: right;\">\n",
              "      <th></th>\n",
              "      <th>count</th>\n",
              "    </tr>\n",
              "    <tr>\n",
              "      <th>pred_highlight_id</th>\n",
              "      <th></th>\n",
              "    </tr>\n",
              "  </thead>\n",
              "  <tbody>\n",
              "    <tr>\n",
              "      <th>1</th>\n",
              "      <td>358</td>\n",
              "    </tr>\n",
              "    <tr>\n",
              "      <th>2</th>\n",
              "      <td>325</td>\n",
              "    </tr>\n",
              "    <tr>\n",
              "      <th>0</th>\n",
              "      <td>298</td>\n",
              "    </tr>\n",
              "  </tbody>\n",
              "</table>\n",
              "</div><br><label><b>dtype:</b> int64</label>"
            ]
          },
          "metadata": {},
          "execution_count": 120
        }
      ]
    },
    {
      "cell_type": "code",
      "source": [
        "X_test['doc_text'][24971]"
      ],
      "metadata": {
        "id": "NzrKGSpyQZQq",
        "colab": {
          "base_uri": "https://localhost:8080/",
          "height": 70
        },
        "outputId": "361538a3-c80b-48db-e5fb-e88738bb78b9"
      },
      "execution_count": null,
      "outputs": [
        {
          "output_type": "execute_result",
          "data": {
            "text/plain": [
              "'They may be used by those companies to build a profile of your interests and show you relevant advertising from College Board on other sites. They do not store directly personal information, but are based on uniquely identifying your browser and internet device. If you do not allow these cookies, you will experience less targeted advertising.Social Media Cookies Social Media Cookies These cookies are set by a range of social media services that we have added to the site to enable you to share our content with your friends and networks.'"
            ],
            "application/vnd.google.colaboratory.intrinsic+json": {
              "type": "string"
            }
          },
          "metadata": {},
          "execution_count": 105
        }
      ]
    },
    {
      "cell_type": "code",
      "source": [
        "X_test['highlight'][24971]"
      ],
      "metadata": {
        "colab": {
          "base_uri": "https://localhost:8080/",
          "height": 35
        },
        "id": "KuR9ZIvjipqq",
        "outputId": "7bdd029f-a7a5-4b35-c4ab-7ca43b8dfd5c"
      },
      "execution_count": null,
      "outputs": [
        {
          "output_type": "execute_result",
          "data": {
            "text/plain": [
              "'They may be used by those companies to build a profile of your interests and show you relevant advertising from College Board on other sites.'"
            ],
            "application/vnd.google.colaboratory.intrinsic+json": {
              "type": "string"
            }
          },
          "metadata": {},
          "execution_count": 114
        }
      ]
    },
    {
      "cell_type": "code",
      "source": [
        "X_test['pred_highlight_id'][24971]"
      ],
      "metadata": {
        "colab": {
          "base_uri": "https://localhost:8080/"
        },
        "id": "Heb-n_AmiO-K",
        "outputId": "ae1978f8-7770-4029-bd26-b5d35acf4239"
      },
      "execution_count": null,
      "outputs": [
        {
          "output_type": "execute_result",
          "data": {
            "text/plain": [
              "1"
            ]
          },
          "metadata": {},
          "execution_count": 121
        }
      ]
    },
    {
      "cell_type": "code",
      "source": [
        "X_test"
      ],
      "metadata": {
        "colab": {
          "base_uri": "https://localhost:8080/",
          "height": 287
        },
        "id": "xas0UXJBiO6M",
        "outputId": "ba59a418-b9d6-40ff-d293-697381db05b8"
      },
      "execution_count": null,
      "outputs": [
        {
          "output_type": "error",
          "ename": "IndexError",
          "evalue": "single positional indexer is out-of-bounds",
          "traceback": [
            "\u001b[0;31m---------------------------------------------------------------------------\u001b[0m",
            "\u001b[0;31mIndexError\u001b[0m                                Traceback (most recent call last)",
            "\u001b[0;32m<ipython-input-102-8ff3376c83ec>\u001b[0m in \u001b[0;36m<cell line: 1>\u001b[0;34m()\u001b[0m\n\u001b[0;32m----> 1\u001b[0;31m \u001b[0mX_test\u001b[0m\u001b[0;34m.\u001b[0m\u001b[0miloc\u001b[0m\u001b[0;34m[\u001b[0m\u001b[0;36m24971\u001b[0m\u001b[0;34m]\u001b[0m\u001b[0;34m\u001b[0m\u001b[0;34m\u001b[0m\u001b[0m\n\u001b[0m",
            "\u001b[0;32m/usr/local/lib/python3.10/dist-packages/pandas/core/indexing.py\u001b[0m in \u001b[0;36m__getitem__\u001b[0;34m(self, key)\u001b[0m\n\u001b[1;32m   1189\u001b[0m             \u001b[0mmaybe_callable\u001b[0m \u001b[0;34m=\u001b[0m \u001b[0mcom\u001b[0m\u001b[0;34m.\u001b[0m\u001b[0mapply_if_callable\u001b[0m\u001b[0;34m(\u001b[0m\u001b[0mkey\u001b[0m\u001b[0;34m,\u001b[0m \u001b[0mself\u001b[0m\u001b[0;34m.\u001b[0m\u001b[0mobj\u001b[0m\u001b[0;34m)\u001b[0m\u001b[0;34m\u001b[0m\u001b[0;34m\u001b[0m\u001b[0m\n\u001b[1;32m   1190\u001b[0m             \u001b[0mmaybe_callable\u001b[0m \u001b[0;34m=\u001b[0m \u001b[0mself\u001b[0m\u001b[0;34m.\u001b[0m\u001b[0m_check_deprecated_callable_usage\u001b[0m\u001b[0;34m(\u001b[0m\u001b[0mkey\u001b[0m\u001b[0;34m,\u001b[0m \u001b[0mmaybe_callable\u001b[0m\u001b[0;34m)\u001b[0m\u001b[0;34m\u001b[0m\u001b[0;34m\u001b[0m\u001b[0m\n\u001b[0;32m-> 1191\u001b[0;31m             \u001b[0;32mreturn\u001b[0m \u001b[0mself\u001b[0m\u001b[0;34m.\u001b[0m\u001b[0m_getitem_axis\u001b[0m\u001b[0;34m(\u001b[0m\u001b[0mmaybe_callable\u001b[0m\u001b[0;34m,\u001b[0m \u001b[0maxis\u001b[0m\u001b[0;34m=\u001b[0m\u001b[0maxis\u001b[0m\u001b[0;34m)\u001b[0m\u001b[0;34m\u001b[0m\u001b[0;34m\u001b[0m\u001b[0m\n\u001b[0m\u001b[1;32m   1192\u001b[0m \u001b[0;34m\u001b[0m\u001b[0m\n\u001b[1;32m   1193\u001b[0m     \u001b[0;32mdef\u001b[0m \u001b[0m_is_scalar_access\u001b[0m\u001b[0;34m(\u001b[0m\u001b[0mself\u001b[0m\u001b[0;34m,\u001b[0m \u001b[0mkey\u001b[0m\u001b[0;34m:\u001b[0m \u001b[0mtuple\u001b[0m\u001b[0;34m)\u001b[0m\u001b[0;34m:\u001b[0m\u001b[0;34m\u001b[0m\u001b[0;34m\u001b[0m\u001b[0m\n",
            "\u001b[0;32m/usr/local/lib/python3.10/dist-packages/pandas/core/indexing.py\u001b[0m in \u001b[0;36m_getitem_axis\u001b[0;34m(self, key, axis)\u001b[0m\n\u001b[1;32m   1750\u001b[0m \u001b[0;34m\u001b[0m\u001b[0m\n\u001b[1;32m   1751\u001b[0m             \u001b[0;31m# validate the location\u001b[0m\u001b[0;34m\u001b[0m\u001b[0;34m\u001b[0m\u001b[0m\n\u001b[0;32m-> 1752\u001b[0;31m             \u001b[0mself\u001b[0m\u001b[0;34m.\u001b[0m\u001b[0m_validate_integer\u001b[0m\u001b[0;34m(\u001b[0m\u001b[0mkey\u001b[0m\u001b[0;34m,\u001b[0m \u001b[0maxis\u001b[0m\u001b[0;34m)\u001b[0m\u001b[0;34m\u001b[0m\u001b[0;34m\u001b[0m\u001b[0m\n\u001b[0m\u001b[1;32m   1753\u001b[0m \u001b[0;34m\u001b[0m\u001b[0m\n\u001b[1;32m   1754\u001b[0m             \u001b[0;32mreturn\u001b[0m \u001b[0mself\u001b[0m\u001b[0;34m.\u001b[0m\u001b[0mobj\u001b[0m\u001b[0;34m.\u001b[0m\u001b[0m_ixs\u001b[0m\u001b[0;34m(\u001b[0m\u001b[0mkey\u001b[0m\u001b[0;34m,\u001b[0m \u001b[0maxis\u001b[0m\u001b[0;34m=\u001b[0m\u001b[0maxis\u001b[0m\u001b[0;34m)\u001b[0m\u001b[0;34m\u001b[0m\u001b[0;34m\u001b[0m\u001b[0m\n",
            "\u001b[0;32m/usr/local/lib/python3.10/dist-packages/pandas/core/indexing.py\u001b[0m in \u001b[0;36m_validate_integer\u001b[0;34m(self, key, axis)\u001b[0m\n\u001b[1;32m   1683\u001b[0m         \u001b[0mlen_axis\u001b[0m \u001b[0;34m=\u001b[0m \u001b[0mlen\u001b[0m\u001b[0;34m(\u001b[0m\u001b[0mself\u001b[0m\u001b[0;34m.\u001b[0m\u001b[0mobj\u001b[0m\u001b[0;34m.\u001b[0m\u001b[0m_get_axis\u001b[0m\u001b[0;34m(\u001b[0m\u001b[0maxis\u001b[0m\u001b[0;34m)\u001b[0m\u001b[0;34m)\u001b[0m\u001b[0;34m\u001b[0m\u001b[0;34m\u001b[0m\u001b[0m\n\u001b[1;32m   1684\u001b[0m         \u001b[0;32mif\u001b[0m \u001b[0mkey\u001b[0m \u001b[0;34m>=\u001b[0m \u001b[0mlen_axis\u001b[0m \u001b[0;32mor\u001b[0m \u001b[0mkey\u001b[0m \u001b[0;34m<\u001b[0m \u001b[0;34m-\u001b[0m\u001b[0mlen_axis\u001b[0m\u001b[0;34m:\u001b[0m\u001b[0;34m\u001b[0m\u001b[0;34m\u001b[0m\u001b[0m\n\u001b[0;32m-> 1685\u001b[0;31m             \u001b[0;32mraise\u001b[0m \u001b[0mIndexError\u001b[0m\u001b[0;34m(\u001b[0m\u001b[0;34m\"single positional indexer is out-of-bounds\"\u001b[0m\u001b[0;34m)\u001b[0m\u001b[0;34m\u001b[0m\u001b[0;34m\u001b[0m\u001b[0m\n\u001b[0m\u001b[1;32m   1686\u001b[0m \u001b[0;34m\u001b[0m\u001b[0m\n\u001b[1;32m   1687\u001b[0m     \u001b[0;31m# -------------------------------------------------------------------\u001b[0m\u001b[0;34m\u001b[0m\u001b[0;34m\u001b[0m\u001b[0m\n",
            "\u001b[0;31mIndexError\u001b[0m: single positional indexer is out-of-bounds"
          ]
        }
      ]
    },
    {
      "cell_type": "code",
      "source": [],
      "metadata": {
        "id": "PUPdSsdniO1S"
      },
      "execution_count": null,
      "outputs": []
    },
    {
      "cell_type": "code",
      "source": [],
      "metadata": {
        "id": "EG37sklLiOg8"
      },
      "execution_count": null,
      "outputs": []
    },
    {
      "cell_type": "markdown",
      "source": [
        "# Appendix"
      ],
      "metadata": {
        "id": "tVBs0UG1s-Zs"
      }
    },
    {
      "cell_type": "markdown",
      "source": [
        "## BERT with Cross Validation"
      ],
      "metadata": {
        "id": "iwzDusy2rWRJ"
      }
    },
    {
      "cell_type": "code",
      "source": [
        "from sklearn.model_selection import StratifiedKFold\n",
        "from tensorflow.keras.callbacks import EarlyStopping"
      ],
      "metadata": {
        "id": "Mg1sqqb9rZt_"
      },
      "execution_count": null,
      "outputs": []
    },
    {
      "cell_type": "code",
      "source": [
        "class1_df = chunk_highlights[chunk_highlights['label'] == 1][0:500]\n",
        "class0_df = chunk_highlights[chunk_highlights['label'] == 0].sample(n = len(class1_df))\n",
        "balanced_df = pd.concat([class1_df, class0_df])\n",
        "balanced_df['label'].value_counts()"
      ],
      "metadata": {
        "colab": {
          "base_uri": "https://localhost:8080/",
          "height": 178
        },
        "id": "idHVhHGqrZok",
        "outputId": "422b2857-0b73-45ce-b299-6ea568cd52ab"
      },
      "execution_count": null,
      "outputs": [
        {
          "output_type": "execute_result",
          "data": {
            "text/plain": [
              "label\n",
              "1    500\n",
              "0    500\n",
              "Name: count, dtype: int64"
            ],
            "text/html": [
              "<div>\n",
              "<style scoped>\n",
              "    .dataframe tbody tr th:only-of-type {\n",
              "        vertical-align: middle;\n",
              "    }\n",
              "\n",
              "    .dataframe tbody tr th {\n",
              "        vertical-align: top;\n",
              "    }\n",
              "\n",
              "    .dataframe thead th {\n",
              "        text-align: right;\n",
              "    }\n",
              "</style>\n",
              "<table border=\"1\" class=\"dataframe\">\n",
              "  <thead>\n",
              "    <tr style=\"text-align: right;\">\n",
              "      <th></th>\n",
              "      <th>count</th>\n",
              "    </tr>\n",
              "    <tr>\n",
              "      <th>label</th>\n",
              "      <th></th>\n",
              "    </tr>\n",
              "  </thead>\n",
              "  <tbody>\n",
              "    <tr>\n",
              "      <th>1</th>\n",
              "      <td>500</td>\n",
              "    </tr>\n",
              "    <tr>\n",
              "      <th>0</th>\n",
              "      <td>500</td>\n",
              "    </tr>\n",
              "  </tbody>\n",
              "</table>\n",
              "</div><br><label><b>dtype:</b> int64</label>"
            ]
          },
          "metadata": {},
          "execution_count": 9
        }
      ]
    },
    {
      "cell_type": "code",
      "source": [
        "X = balanced_df['doc_text'].values\n",
        "y = balanced_df['label'].values\n",
        "inputs = [x for x in X]\n",
        "\n",
        "MAX_SEQUENCE_LENGTH = 256\n",
        "\n",
        "bert_encodings = bert_tokenizer(inputs,\n",
        "              max_length=MAX_SEQUENCE_LENGTH,\n",
        "              truncation=True,\n",
        "              padding='max_length',\n",
        "              # return_tensors='tf',\n",
        "              return_tensors='np')\n",
        "\n",
        "input_ids = bert_encodings[\"input_ids\"]\n",
        "attention_masks = bert_encodings[\"attention_mask\"]\n",
        "token_type_ids = bert_encodings[\"token_type_ids\"]\n",
        "\n",
        "labels = np.array(y)"
      ],
      "metadata": {
        "id": "IuH4-teot75d"
      },
      "execution_count": null,
      "outputs": []
    },
    {
      "cell_type": "code",
      "source": [
        "k = 3\n",
        "skf = StratifiedKFold(n_splits=k, shuffle=True, random_state=42)\n",
        "fold_no = 1\n",
        "results = []\n",
        "\n",
        "for train_index, val_index in skf.split(input_ids, labels):\n",
        "  print(f\"Training on Fold {fold_no}...\")\n",
        "\n",
        "  # train_index = tf.constant(train_index)\n",
        "  # val_index = tf.constant(val_index)\n",
        "\n",
        "  # Split data into train and validation sets\n",
        "  X_train_ids, X_val_ids = input_ids[train_index], input_ids[val_index]\n",
        "  X_train_masks, X_val_masks = attention_masks[train_index], attention_masks[val_index]\n",
        "  X_train_token, X_val_token = token_type_ids[train_index], token_type_ids[val_index]\n",
        "  y_train, y_val = labels[train_index], labels[val_index]\n",
        "\n",
        "  bert_classification_model = create_bert_cls_model(bert_model)\n",
        "\n",
        "  early_stopping = EarlyStopping(monitor=\"val_loss\", patience=3, restore_best_weights=True)\n",
        "\n",
        "  bert_classification_model_history = bert_classification_model.fit(\n",
        "      [X_train_ids, X_train_masks, X_train_token],\n",
        "      y_train,\n",
        "      validation_data = ([X_val_ids, X_val_masks, X_val_token], y_val),\n",
        "      callbacks=[early_stopping],\n",
        "      batch_size = 8,\n",
        "      epochs = 3\n",
        "  )\n",
        "\n",
        "  fold_no += 1"
      ],
      "metadata": {
        "colab": {
          "base_uri": "https://localhost:8080/"
        },
        "id": "c-tLMJCYrZj3",
        "outputId": "3d1a0f39-1435-4382-d9a8-4e8e0c2b4322"
      },
      "execution_count": null,
      "outputs": [
        {
          "output_type": "stream",
          "name": "stdout",
          "text": [
            "Training on Fold 1...\n",
            "Epoch 1/3\n"
          ]
        },
        {
          "output_type": "stream",
          "name": "stderr",
          "text": [
            "WARNING:tensorflow:Gradients do not exist for variables ['tf_bert_model_1/bert/pooler/dense/kernel:0', 'tf_bert_model_1/bert/pooler/dense/bias:0'] when minimizing the loss. If you're using `model.compile()`, did you forget to provide a `loss` argument?\n",
            "WARNING:tensorflow:Gradients do not exist for variables ['tf_bert_model_1/bert/pooler/dense/kernel:0', 'tf_bert_model_1/bert/pooler/dense/bias:0'] when minimizing the loss. If you're using `model.compile()`, did you forget to provide a `loss` argument?\n",
            "WARNING:tensorflow:Gradients do not exist for variables ['tf_bert_model_1/bert/pooler/dense/kernel:0', 'tf_bert_model_1/bert/pooler/dense/bias:0'] when minimizing the loss. If you're using `model.compile()`, did you forget to provide a `loss` argument?\n",
            "WARNING:tensorflow:Gradients do not exist for variables ['tf_bert_model_1/bert/pooler/dense/kernel:0', 'tf_bert_model_1/bert/pooler/dense/bias:0'] when minimizing the loss. If you're using `model.compile()`, did you forget to provide a `loss` argument?\n"
          ]
        },
        {
          "output_type": "stream",
          "name": "stdout",
          "text": [
            "84/84 [==============================] - 93s 617ms/step - loss: 0.7184 - accuracy: 0.5556 - val_loss: 0.5203 - val_accuracy: 0.7904\n",
            "Epoch 2/3\n",
            "84/84 [==============================] - 48s 569ms/step - loss: 0.4854 - accuracy: 0.7748 - val_loss: 0.4244 - val_accuracy: 0.7814\n",
            "Epoch 3/3\n",
            "84/84 [==============================] - 48s 568ms/step - loss: 0.3025 - accuracy: 0.8799 - val_loss: 0.5263 - val_accuracy: 0.7515\n",
            "Training on Fold 2...\n",
            "Epoch 1/3\n"
          ]
        },
        {
          "output_type": "stream",
          "name": "stderr",
          "text": [
            "WARNING:tensorflow:Gradients do not exist for variables ['tf_bert_model_2/bert/pooler/dense/kernel:0', 'tf_bert_model_2/bert/pooler/dense/bias:0'] when minimizing the loss. If you're using `model.compile()`, did you forget to provide a `loss` argument?\n",
            "WARNING:tensorflow:Gradients do not exist for variables ['tf_bert_model_2/bert/pooler/dense/kernel:0', 'tf_bert_model_2/bert/pooler/dense/bias:0'] when minimizing the loss. If you're using `model.compile()`, did you forget to provide a `loss` argument?\n",
            "WARNING:tensorflow:Gradients do not exist for variables ['tf_bert_model_2/bert/pooler/dense/kernel:0', 'tf_bert_model_2/bert/pooler/dense/bias:0'] when minimizing the loss. If you're using `model.compile()`, did you forget to provide a `loss` argument?\n",
            "WARNING:tensorflow:Gradients do not exist for variables ['tf_bert_model_2/bert/pooler/dense/kernel:0', 'tf_bert_model_2/bert/pooler/dense/bias:0'] when minimizing the loss. If you're using `model.compile()`, did you forget to provide a `loss` argument?\n"
          ]
        },
        {
          "output_type": "stream",
          "name": "stdout",
          "text": [
            "84/84 [==============================] - 96s 633ms/step - loss: 0.7275 - accuracy: 0.5487 - val_loss: 0.6047 - val_accuracy: 0.7297\n",
            "Epoch 2/3\n",
            "84/84 [==============================] - 48s 573ms/step - loss: 0.4555 - accuracy: 0.7886 - val_loss: 0.5419 - val_accuracy: 0.7778\n",
            "Epoch 3/3\n",
            "84/84 [==============================] - 48s 573ms/step - loss: 0.2965 - accuracy: 0.8816 - val_loss: 0.4793 - val_accuracy: 0.7988\n",
            "Training on Fold 3...\n",
            "Epoch 1/3\n"
          ]
        },
        {
          "output_type": "stream",
          "name": "stderr",
          "text": [
            "WARNING:tensorflow:Gradients do not exist for variables ['tf_bert_model_3/bert/pooler/dense/kernel:0', 'tf_bert_model_3/bert/pooler/dense/bias:0'] when minimizing the loss. If you're using `model.compile()`, did you forget to provide a `loss` argument?\n",
            "WARNING:tensorflow:Gradients do not exist for variables ['tf_bert_model_3/bert/pooler/dense/kernel:0', 'tf_bert_model_3/bert/pooler/dense/bias:0'] when minimizing the loss. If you're using `model.compile()`, did you forget to provide a `loss` argument?\n",
            "WARNING:tensorflow:Gradients do not exist for variables ['tf_bert_model_3/bert/pooler/dense/kernel:0', 'tf_bert_model_3/bert/pooler/dense/bias:0'] when minimizing the loss. If you're using `model.compile()`, did you forget to provide a `loss` argument?\n",
            "WARNING:tensorflow:Gradients do not exist for variables ['tf_bert_model_3/bert/pooler/dense/kernel:0', 'tf_bert_model_3/bert/pooler/dense/bias:0'] when minimizing the loss. If you're using `model.compile()`, did you forget to provide a `loss` argument?\n"
          ]
        },
        {
          "output_type": "stream",
          "name": "stdout",
          "text": [
            "84/84 [==============================] - 96s 617ms/step - loss: 0.7439 - accuracy: 0.5127 - val_loss: 0.6892 - val_accuracy: 0.5165\n",
            "Epoch 2/3\n",
            "84/84 [==============================] - 48s 572ms/step - loss: 0.7254 - accuracy: 0.5097 - val_loss: 0.6865 - val_accuracy: 0.5165\n",
            "Epoch 3/3\n",
            "84/84 [==============================] - 44s 524ms/step - loss: 0.6716 - accuracy: 0.5682 - val_loss: 0.5242 - val_accuracy: 0.7237\n"
          ]
        }
      ]
    },
    {
      "cell_type": "code",
      "source": [
        "bert_classification_model_history.history"
      ],
      "metadata": {
        "colab": {
          "base_uri": "https://localhost:8080/"
        },
        "id": "6YA0MhAhrZfJ",
        "outputId": "aa7fa0cb-ede6-477d-bb21-625defe2908a"
      },
      "execution_count": null,
      "outputs": [
        {
          "output_type": "execute_result",
          "data": {
            "text/plain": [
              "{'loss': [0.743912398815155, 0.7254176735877991, 0.6716045141220093],\n",
              " 'accuracy': [0.5127436518669128, 0.5097451210021973, 0.5682159066200256],\n",
              " 'val_loss': [0.6892349720001221, 0.6864781975746155, 0.5241714119911194],\n",
              " 'val_accuracy': [0.5165165066719055, 0.5165165066719055, 0.7237237095832825]}"
            ]
          },
          "metadata": {},
          "execution_count": 32
        }
      ]
    },
    {
      "cell_type": "code",
      "source": [
        "y_train.sum()/y_train.shape[0]"
      ],
      "metadata": {
        "colab": {
          "base_uri": "https://localhost:8080/"
        },
        "id": "S86--02tziWT",
        "outputId": "2dd2b9ab-7d6f-45d9-ec65-752320fe67ba"
      },
      "execution_count": null,
      "outputs": [
        {
          "output_type": "execute_result",
          "data": {
            "text/plain": [
              "0.5"
            ]
          },
          "metadata": {},
          "execution_count": 29
        }
      ]
    },
    {
      "cell_type": "code",
      "source": [
        "y_val.sum()/y_val.shape[0]"
      ],
      "metadata": {
        "colab": {
          "base_uri": "https://localhost:8080/"
        },
        "id": "Vt9mZ4JIrZaO",
        "outputId": "ee3f9218-1be8-4dd6-d53b-31604adc9327"
      },
      "execution_count": null,
      "outputs": [
        {
          "output_type": "execute_result",
          "data": {
            "text/plain": [
              "0.5"
            ]
          },
          "metadata": {},
          "execution_count": 28
        }
      ]
    },
    {
      "cell_type": "code",
      "source": [],
      "metadata": {
        "id": "XtwoZuu1rZVG"
      },
      "execution_count": null,
      "outputs": []
    },
    {
      "cell_type": "markdown",
      "source": [
        "## BERT + CNN"
      ],
      "metadata": {
        "id": "wNlAGB-2le6k"
      }
    },
    {
      "cell_type": "code",
      "source": [
        "def create_bert_cnn_model(bert_base_model,\n",
        "                          max_sequence_length,\n",
        "                          num_filters,\n",
        "                          kernel_sizes,\n",
        "                          dense_layer_dims,\n",
        "                          dropout=0.3,\n",
        "                          learning_rate=0.0005):\n",
        "\n",
        "    #ensures bert model is fully trainable\n",
        "    bert_base_model.trainable = True\n",
        "\n",
        "    input_ids = tf.keras.layers.Input(shape=(max_sequence_length,), dtype=tf.int64, name='input_ids_layer')\n",
        "    token_type_ids = tf.keras.layers.Input(shape=(max_sequence_length,), dtype=tf.int64, name='token_type_ids_layer')\n",
        "    attention_mask = tf.keras.layers.Input(shape=(max_sequence_length,), dtype=tf.int64, name='attention_mask_layer')\n",
        "\n",
        "    bert_inputs = {'input_ids': input_ids,\n",
        "                   'token_type_ids': token_type_ids,\n",
        "                   'attention_mask': attention_mask}\n",
        "\n",
        "    bert_out = bert_base_model(bert_inputs)\n",
        "\n",
        "    pooler_token = bert_out[1]\n",
        "    pooler_token = tf.expand_dims(pooler_token, axis=-1)\n",
        "    # cls_token = bert_out[0][:, 0, :]\n",
        "    # conv_input = bert_out['pooler_output']\n",
        "    # conv_input = tf.expand_dims(conv_input, axis=1)\n",
        "\n",
        "    # conv_layer = keras.layers.Conv1D(filters=num_filters, kernel_size=kernel_sizes, activation='relu')(pooler_token)\n",
        "    # conv_layer = tf.keras.layers.GlobalMaxPooling1D()(conv_layer)\n",
        "\n",
        "    conv_layers_for_all_kernel_sizes = []\n",
        "    for kernel_size, filters in zip(kernel_sizes, num_filters):\n",
        "        conv_layer = keras.layers.Conv1D(filters=filters, kernel_size=kernel_size, activation='relu')(pooler_token)\n",
        "        conv_layer = keras.layers.GlobalMaxPooling1D()(conv_layer)\n",
        "        conv_layers_for_all_kernel_sizes.append(conv_layer)\n",
        "\n",
        "    conv_output = keras.layers.concatenate(conv_layers_for_all_kernel_sizes, axis=1)\n",
        "    hidden_layer = keras.layers.Dropout(rate=dropout)(conv_output)\n",
        "\n",
        "    for dense_layer_dim in dense_layer_dims:\n",
        "        hidden_layer = keras.layers.Dense(dense_layer_dim, activation='relu')(hidden_layer)\n",
        "\n",
        "    # hidden_layer = tf.keras.layers.Dense(dense_layer_dims, activation='relu', name='hidden_layer')(conv_layer)\n",
        "    # dropout = tf.keras.layers.Dropout(dropout)(hidden_layer)\n",
        "\n",
        "    classification = tf.keras.layers.Dense(1, activation='sigmoid',name='classification_layer')(hidden_layer)\n",
        "\n",
        "    classification_model = tf.keras.Model(inputs=[input_ids, token_type_ids, attention_mask], outputs=[classification])\n",
        "\n",
        "    classification_model.compile(optimizer=tf.keras.optimizers.Adam(learning_rate=learning_rate),\n",
        "                                 loss=tf.keras.losses.BinaryCrossentropy(from_logits=False),\n",
        "                                 metrics='accuracy')\n",
        "\n",
        "    return classification_model"
      ],
      "metadata": {
        "id": "7jszHfZRkcaM"
      },
      "execution_count": null,
      "outputs": []
    },
    {
      "cell_type": "code",
      "source": [
        "tf.keras.backend.clear_session()\n",
        "\n",
        "from transformers import BertTokenizer, TFBertModel\n",
        "bert_tokenizer = BertTokenizer.from_pretrained('bert-base-cased')\n",
        "bert_model = TFBertModel.from_pretrained('bert-base-cased')"
      ],
      "metadata": {
        "id": "9T7I6qJ87wrT"
      },
      "execution_count": null,
      "outputs": []
    },
    {
      "cell_type": "code",
      "source": [
        "num_filters = [64] #[100, 100, 50, 25]\n",
        "kernel_sizes = [3] #[3, 4, 5, 10]\n",
        "dense_layer_dims = [100]\n",
        "\n",
        "# bert_cnn_model = create_bert_cnn_model(bert_model, 256, num_filters, kernel_sizes, dense_layer_dims)\n",
        "# bert_cnn_model_history = bert_cnn_model.fit(\n",
        "#     bert_train_inputs,\n",
        "#     bert_train_labels,\n",
        "#     validation_data = (bert_test_inputs, bert_test_labels),\n",
        "#     batch_size = 8,\n",
        "#     epochs = 3\n",
        "# )\n",
        "\n",
        "bert_cnn_model = create_bert_cnn_model(bert_model, 256, num_filters, kernel_sizes, dense_layer_dims)\n",
        "bert_cnn_model_history = bert_cnn_model.fit(\n",
        "    [bert_train_inputs[0][:80], bert_train_inputs[1][:80], bert_train_inputs[2][:80]],\n",
        "    bert_train_labels[0:80],\n",
        "    validation_data = ([bert_test_inputs[0][:20], bert_test_inputs[1][:20], bert_test_inputs[2][:20]], bert_test_labels[0:20]),\n",
        "    batch_size = 8,\n",
        "    epochs = 3\n",
        ")"
      ],
      "metadata": {
        "colab": {
          "base_uri": "https://localhost:8080/"
        },
        "id": "yOAnr_HJmzbf",
        "outputId": "0e7e6214-3973-4c20-aa94-3e9e52ededd4"
      },
      "execution_count": null,
      "outputs": [
        {
          "output_type": "stream",
          "name": "stdout",
          "text": [
            "Epoch 1/5\n",
            "10/10 [==============================] - 43s 802ms/step - loss: 0.7019 - accuracy: 0.4625 - val_loss: 0.7124 - val_accuracy: 0.4000\n",
            "Epoch 2/5\n",
            "10/10 [==============================] - 5s 509ms/step - loss: 0.6983 - accuracy: 0.5000 - val_loss: 0.7217 - val_accuracy: 0.4000\n",
            "Epoch 3/5\n",
            "10/10 [==============================] - 5s 505ms/step - loss: 0.7002 - accuracy: 0.5250 - val_loss: 0.7416 - val_accuracy: 0.4000\n",
            "Epoch 4/5\n",
            "10/10 [==============================] - 5s 487ms/step - loss: 0.7043 - accuracy: 0.4625 - val_loss: 0.7196 - val_accuracy: 0.4000\n",
            "Epoch 5/5\n",
            "10/10 [==============================] - 5s 512ms/step - loss: 0.6967 - accuracy: 0.5125 - val_loss: 0.7206 - val_accuracy: 0.4000\n"
          ]
        }
      ]
    },
    {
      "cell_type": "code",
      "source": [],
      "metadata": {
        "id": "MuVl7AIPzZyA"
      },
      "execution_count": null,
      "outputs": []
    }
  ]
}